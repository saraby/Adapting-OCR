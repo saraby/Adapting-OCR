{
 "cells": [
  {
   "cell_type": "markdown",
   "metadata": {},
   "source": [
    "# Building an OCR from scratch\n",
    "\n",
    "So in this tutorial, I will give you a basic code walkthrough for building a simple OCR. OCR as might know stands for optical character recognition or in layman terms it means text recognition. Text recognition is one of the classic problems in computer vision and is still relevant today. One of the most important applications of text recognition is the digitization of old manuscripts. Physical copies of books and manuscripts are prone to degradations. With time, the printed characters start to fade. On simple way to preserve such documents is to make a digital copy of it and store it in the cloud or local hard drive which would ensure their continuance. Similarly, text recognition can also be used for licence plate recognition and can also be used in forensics in terms of handwriting recognition. \n",
    "\n",
    "Okay, now that I have given you enough motivation as to why OCR is important, let me show you how you can build one. \n",
    "So first things first, I'll start with listing down some of the essential packages that you would need to build your first OCR. We will be working with PyTorch as it is one of the most efficient deep learning libraries present. The other packages are as follows:\n",
    "\n",
    "* Pytorch 1.5\n",
    "* Matplotlib\n",
    "* Tqdm\n",
    "* textdistance\n",
    "* lmdb\n",
    "\n",
    "You can install them either via a pip or conda. I will also be providing a requirements.txt file which you can find in my Github repo. Do a simple `pip install -r requirements` and you are set to go.\n",
    "\n",
    "## Setting up the Data\n",
    "\n",
    "We will start our project by importing the libraries. But before that we need data. Now, you are free to use any text image data you might like and for that, you might need to build your own data loader. However, in the interest of keeping things simple, we will be using a neat little package called `trdg`, which is a synthetic image generator for OCR. You can find all the relevant information regarding this package on its [github repository](https://github.com/Belval/TextRecognitionDataGenerator). You can generate printed as well as hand-written text images and infuse them with different kinds of noise and degradation. In this project, I have used trdg to generate printed word images of a single font. You can use any font you like. Just download a `.ttf` file for your font and while generating the word images be sure to specify the `-ft` parameter as your font file. \n",
    "\n",
    "You can generate the word images for training using the following commands:\n",
    "\n",
    "`trdg -i words.txt -c 20000 --output_dir data/train -ft your/fontfile`\n",
    "\n",
    "Here, `-c` refers to the number of word images you want to generate. `words.txt` file contains our input word vocabulary while `--output_dir` and `-ft` refer to the output and font file respectively. You can similarly generate the test word images for evaluating the performance of your OCR. However, ensure that words for training and testing are mutually exclusive to each other.\n"
   ]
  },
  {
   "cell_type": "markdown",
   "metadata": {},
   "source": [
    "Okay, now that we have generated the word images, let us display a few images using matlplotlib\n",
    "%# TODO diplay images from folder"
   ]
  },
  {
   "cell_type": "markdown",
   "metadata": {},
   "source": [
    "Now lets start importing the libraries that we would need to build our OCR"
   ]
  },
  {
   "cell_type": "code",
   "execution_count": 1,
   "metadata": {},
   "outputs": [],
   "source": [
    "import os\n",
    "import sys\n",
    "import pdb\n",
    "import six\n",
    "import random\n",
    "# import lmdb\n",
    "from PIL import Image\n",
    "import numpy as np\n",
    "import math\n",
    "from collections import OrderedDict\n",
    "from itertools import chain\n",
    "import logging\n",
    "import xml.etree.ElementTree as ET\n",
    "\n",
    "\n",
    "\n",
    "import torch\n",
    "import torch.nn as nn\n",
    "import torch.nn.functional as F\n",
    "from torch.utils.data import Dataset\n",
    "from torch.utils.data import sampler\n",
    "import torchvision.transforms as transforms\n",
    "from torch.optim.lr_scheduler import CosineAnnealingLR, StepLR\n",
    "from torch.nn.utils.clip_grad import clip_grad_norm_\n",
    "from torch.utils.data import random_split\n",
    "sys.path.insert(0, '../')\n",
    "from src.utils.utils import AverageMeter, Eval, OCRLabelConverter\n",
    "from src.utils.utils import EarlyStopping, gmkdir\n",
    "# from src.optim.optimizer import STLR\n",
    "from src.utils.utils import gaussian\n",
    "from tqdm import *\n"
   ]
  },
  {
   "cell_type": "code",
   "execution_count": null,
   "metadata": {},
   "outputs": [],
   "source": []
  },
  {
   "cell_type": "markdown",
   "metadata": {},
   "source": [
    "Next, let us create our data pipe-line. We do this by inheriting the PyTorch Dataset class. The Dataset class has few methods that we need to adhere to like the `__len__` and `__getitem__` method. The `__len__` method returns the number of items in our dataset while `__getitem_` returns the data item for the index passed. You can find more information on PyTorch Dataset class on PyTorch's official documentation page. \n",
    "\n",
    "You will observe that we first convert each image into grayscale and convert it into a tensor. This is followed by normalizing the images so that our input data lies within a range of [-1, 1]. We pass all such transformations into a list and later call the transforms to compose function provided by PyTorch. The transform Compose function applies each transformation in the pre-defined order."
   ]
  },
  {
   "cell_type": "code",
   "execution_count": 2,
   "metadata": {},
   "outputs": [],
   "source": [
    "class SynthDataset(Dataset):\n",
    "    def __init__(self, opt):\n",
    "        super(SynthDataset, self).__init__()\n",
    "        self.path = os.path.join(opt['path'], opt['imgdir'])\n",
    "        self.xmldir = os.path.join(opt['path'], opt['XMLdir'])\n",
    "        self.images = os.listdir(self.path)\n",
    "        self.nSamples = len(self.images)\n",
    "        f = lambda x: os.path.join(self.path, x)\n",
    "        self.imagepaths = list(map(f, self.images))\n",
    "       \ttransform_list =  [transforms.Grayscale(1),\n",
    "                            transforms.Resize((opt['imgH'], opt['imgW'])),\n",
    "                            transforms.ToTensor(), \n",
    "                            transforms.Normalize((0.5,), (0.5,))]\n",
    "        self.transform = transforms.Compose(transform_list)\n",
    "        self.collate_fn = SynthCollator()\n",
    "\n",
    "    def __len__(self):\n",
    "        return self.nSamples\n",
    "    \n",
    "    def get_label(self, index):\n",
    "        imagepath = self.imagepaths[index]\n",
    "        imagefile = os.path.splitext(os.path.basename(imagepath))[0] \n",
    "        xml_file_path = os.path.join(self.xmldir, imagefile + '.xml')\n",
    "        label = ''\n",
    "        try:\n",
    "            tree = ET.parse(xml_file_path)\n",
    "            root = tree.getroot()\n",
    "            label = ''.join([elem.text for elem in root.findall('.//object/name')]) # Concatenate all strings in list \n",
    "        except (ET.ParseError, FileNotFoundError):\n",
    "            print(f\"Error parsing {xml_file_path}.\")\n",
    "        return label\n",
    "    \n",
    "    def __getitem__(self, index):\n",
    "        assert index <= len(self), 'index range error'\n",
    "        imagepath = self.imagepaths[index]\n",
    "        imagefile = os.path.basename(imagepath)\n",
    "        img = Image.open(imagepath)\n",
    "        if self.transform is not None:\n",
    "            img = self.transform(img)\n",
    "        item = {'img': img, 'idx':index}\n",
    "        \n",
    "        item['label'] = self.get_label(index)\n",
    "        return item\n",
    "    \n",
    "    "
   ]
  },
  {
   "cell_type": "markdown",
   "metadata": {},
   "source": [
    "Next, since we are going to train our model using the mini-batch gradient descent, it is essential that each image in the batch is of the same shape and size. For this, we have defined the `SynthCollator` class which initially finds the image with maximum width in the batch and then proceeds to pad all images to have the same width. "
   ]
  },
  {
   "cell_type": "code",
   "execution_count": 3,
   "metadata": {},
   "outputs": [],
   "source": [
    "class SynthCollator(object):\n",
    "    \n",
    "    def __call__(self, batch):\n",
    "        width = [item['img'].shape[2] for item in batch]\n",
    "        indexes = [item['idx'] for item in batch]\n",
    "        imgs = torch.ones([len(batch), batch[0]['img'].shape[0], batch[0]['img'].shape[1], \n",
    "                           max(width)], dtype=torch.float32)\n",
    "        for idx, item in enumerate(batch):\n",
    "            try:\n",
    "                imgs[idx, :, :, 0:item['img'].shape[2]] = item['img']\n",
    "            except:\n",
    "                print(imgs.shape)\n",
    "        item = {'img': imgs, 'idx':indexes}\n",
    "        if 'label' in batch[0].keys():\n",
    "            labels = [item['label'] for item in batch]\n",
    "            item['label'] = labels\n",
    "        return item"
   ]
  },
  {
   "cell_type": "markdown",
   "metadata": {},
   "source": [
    "## Defining our Model\n",
    "\n",
    "Now we proceed to define our model. We use the CNN-LSTM based architecture which was proposed by Shi et.al. in their excellent paper [An End-to-End Trainable Neural Network for Image-based Sequence Recognition and Its Application to Scene Text Recognition](https://arxiv.org/pdf/1507.05717.pdf). The authors used it for scene-text recognition and showed via extensive experimentation that they were able to achieve significant gains in accuracy compared to all other existing methods at that time.\n",
    "\n",
    "\n",
    "<img src=\"images/crnn.png\" alt=\"drawing\" width=\"400\"/>\n",
    "\n",
    "The figure above shows the architecture used in the paper. The authors used a 7 layered Convolution network with BatchNorm and ReLU. This was followed by a stacked RNN network consisting of two Bidirectional LSTM layers. The convolution layers acted as a feature extractor while the LSTMs layers act as sequence classifiers. The LSTM layers output the probability associated with each output class at each time step\n",
    "Further details can be found in their paper and I strongly suggest you go through it for a better understanding.\n",
    "\n",
    "The below code snippet is taken from this [github repository](https://github.com/meijieru/crnn.pytorch) which provides a Pytorch implementation of their code.\n"
   ]
  },
  {
   "cell_type": "code",
   "execution_count": 165,
   "metadata": {},
   "outputs": [],
   "source": [
    "class BidirectionalLSTM(nn.Module):\n",
    "\n",
    "    def __init__(self, nIn, nHidden, nOut):\n",
    "        super(BidirectionalLSTM, self).__init__()\n",
    "        self.rnn = nn.LSTM(nIn, nHidden, bidirectional=True)\n",
    "        self.embedding = nn.Linear(nHidden * 2, nOut)\n",
    "    def forward(self, input):\n",
    "        self.rnn.flatten_parameters()\n",
    "        recurrent, _ = self.rnn(input)\n",
    "        T, b, h = recurrent.size()\n",
    "        t_rec = recurrent.view(T * b, h)\n",
    "        output = self.embedding(t_rec)  # [T * b, nOut]\n",
    "        output = output.view(T, b, -1)\n",
    "        output = output.transpose(1,0) #Tbh to bth\n",
    "        return output\n",
    "\n",
    "class CRNN(nn.Module):\n",
    "\n",
    "    def __init__(self, opt, leakyRelu=False):\n",
    "        super(CRNN, self).__init__()\n",
    "\n",
    "        assert opt['imgH'] % 16 == 0, 'imgH has to be a multiple of 16'\n",
    "\n",
    "        ks = [3, 3, 3, 3, 3, 3, 2]\n",
    "        ps = [1, 1, 1, 1, 1, 1, 0]\n",
    "        ss = [1, 1, 1, 1, 1, 1, 1]\n",
    "        nm = [64, 128, 256, 256, 512, 512, 512]\n",
    "        \n",
    "        cnn = nn.Sequential()\n",
    "\n",
    "        def convRelu(i, batchNormalization=False):\n",
    "            nIn = opt['nChannels'] if i == 0 else nm[i - 1]\n",
    "            nOut = nm[i]\n",
    "            cnn.add_module('conv{0}'.format(i),\n",
    "                           nn.Conv2d(nIn, nOut, ks[i], ss[i], ps[i]))\n",
    "            if batchNormalization:\n",
    "                cnn.add_module('batchnorm{0}'.format(i), nn.BatchNorm2d(nOut))\n",
    "            if leakyRelu:\n",
    "                cnn.add_module('relu{0}'.format(i),\n",
    "                               nn.LeakyReLU(0.2, inplace=True))\n",
    "            else:\n",
    "                cnn.add_module('relu{0}'.format(i), nn.ReLU(True))\n",
    "\n",
    "        convRelu(0)\n",
    "        cnn.add_module('pooling{0}'.format(0), nn.MaxPool2d(2, 2))  # 64x16x64\n",
    "        convRelu(1)\n",
    "        cnn.add_module('pooling{0}'.format(1), nn.MaxPool2d(2, 2))  # 128x8x32\n",
    "        convRelu(2, True)\n",
    "        convRelu(3)\n",
    "        cnn.add_module('pooling{0}'.format(2),\n",
    "                       nn.MaxPool2d((2, 2), (2, 1), (0, 1)))  # 256x4x16 \n",
    "        convRelu(4, True)\n",
    "        convRelu(5)\n",
    "        cnn.add_module('pooling{0}'.format(3),\n",
    "                       nn.MaxPool2d((2, 2), (2, 1), (0, 1)))  # 512x2x16\n",
    "        convRelu(6, True)  # 512x1x16 \n",
    "        self.cnn = cnn\n",
    "        \n",
    "        self.rnn = nn.Sequential() # this \n",
    "        self.rnn = nn.Sequential(\n",
    "            BidirectionalLSTM(512, opt['nHidden'], opt['nHidden']),\n",
    "            BidirectionalLSTM(opt['nHidden'], opt['nHidden'], opt['nClasses']),\n",
    "            ) \n",
    "\n",
    "\n",
    "    def forward(self, input):\n",
    "        # conv features\n",
    "        conv = self.cnn(input)\n",
    "        b, c, h, w = conv.size()\n",
    "        assert h == 1, \"the height of conv must be 1\"\n",
    "        conv = conv.squeeze(2)\n",
    "        conv = conv.permute(2, 0, 1)  # [w, b, c]\n",
    "        # rnn features\n",
    "        output = self.rnn(conv)\n",
    "        output = output.transpose(1,0) #Tbh to bth\n",
    "        \n",
    "        return output"
   ]
  },
  {
   "cell_type": "markdown",
   "metadata": {},
   "source": [
    "## The CTC Loss \n",
    "\n",
    "Okay, now that we have our data and model pipeline ready, it is time to define our loss function which in our case is the CTC loss function. We will be using PyTorch's excellent CTC implementation. CTC stands for Connectionist Temporal Classification and was proposed by Alex Graves in his paper [Connectionist Temporal Classification: Labelling Unsegmented Sequence Data with Recurrent Neural Networks](https://www.cs.toronto.edu/~graves/icml_2006.pdf). \n",
    "\n",
    "Honestly, the above work has been a gamechanger for many sequences based tasks like speech and text recognition. For all the sequence-based tasks it is important for the input and output labels to be properly aligned. Proper alignment leads to efficient loss computation between the network predictions and expected output. In segmentation based approaches i.e. when the input word or line has been segmented into its constituent characters, there exists a direct one-to-one mapping between the segmented images of characters and the output labels.  However, as you might imagine obtaining such segmentations for each character can be a very tedious and time-consuming task. Thus, CTC based transcription layers have become the de-facto choice for OCRs and speech recognition module since it allows loss computation without explicit mapping between the input and output. The CTC layer takes the output from the LSTMs and computes a score with all possible alignments of the target label. The OCR is then trained to predict a sequence which maximizes the sum of all such scores.\n",
    "\n",
    "If you want more thorough details regarding the CTC layer I would suggest you go through the following blogs and lecture video\n",
    "\n",
    "* [CMU Deep Learning Course Lecture 14](https://www.youtube.com/watch?v=c86gfVGcvh4&t=670s)\n",
    "* [Sequence Labelling with CTC](https://distill.pub/2017/ctc)"
   ]
  },
  {
   "cell_type": "code",
   "execution_count": 166,
   "metadata": {},
   "outputs": [],
   "source": [
    "class CustomCTCLoss(torch.nn.Module):\n",
    "    # T x B x H => Softmax on dimension 2\n",
    "    def __init__(self, dim=2):\n",
    "        super().__init__()\n",
    "        self.dim = dim\n",
    "        self.ctc_loss = torch.nn.CTCLoss(reduction='mean', zero_infinity=True)\n",
    "\n",
    "    def forward(self, logits, labels,\n",
    "            prediction_sizes, target_sizes):\n",
    "        EPS = 1e-7\n",
    "        loss = self.ctc_loss(logits, labels, prediction_sizes, target_sizes)\n",
    "        loss = self.sanitize(loss)\n",
    "        return self.debug(loss, logits, labels, prediction_sizes, target_sizes)\n",
    "    \n",
    "    def sanitize(self, loss):\n",
    "        EPS = 1e-7\n",
    "        if abs(loss.item() - float('inf')) < EPS:\n",
    "            return torch.zeros_like(loss)\n",
    "        if math.isnan(loss.item()):\n",
    "            return torch.zeros_like(loss)\n",
    "        return loss\n",
    "\n",
    "    def debug(self, loss, logits, labels,\n",
    "            prediction_sizes, target_sizes):\n",
    "        if math.isnan(loss.item()):\n",
    "            print(\"Loss:\", loss)\n",
    "            print(\"logits:\", logits)\n",
    "            print(\"labels:\", labels)\n",
    "            print(\"prediction_sizes:\", prediction_sizes)\n",
    "            print(\"target_sizes:\", target_sizes)\n",
    "            raise Exception(\"NaN loss obtained. But why?\")\n",
    "        return loss"
   ]
  },
  {
   "cell_type": "markdown",
   "metadata": {},
   "source": [
    "## The Training Loop\n",
    "\n",
    "The above code snippet builds a wrapper around pytorch's CTC loss function. Basically, what it does is that it computes the loss and passes it through an additional method called `debug`, which checks for instances when the loss becomes Nan. \n",
    "\n",
    "Shout out to [Jerin Philip](https://jerinphilip.github.io/) for this code.\n",
    "\n",
    "Now, let us come to the training loop. The below code might look a bit cumbersome but it provides a nice abstraction which is quite intuitive and easy to use. The below code is based on [pytorch lighning](https://github.com/PyTorchLightning/pytorch-lightning)'s bolier plate template with few modifications of my own. :P\n",
    "\n",
    "I will give a basic overview of what it does. Feel free to inspect each method using python debugger. So, the `OCRTrainer` class takes in the training and validation data. It also takes in the loss function, optimizer and the number of epoch it needs to train the model. The train and validation loader method returns the data loader for the train and validation data. the `run_batch` method does one forward pass for a batch of image-label pairs. It returns the loss as well as the character and word accuracy. Next, we have the step functions which does the backpropagation, calculates the gradient and updates the parameters for each batch of data. Besides we also have the `training_end` and `validation_end` methods that calculate the mean loss and accuracy for each batch after the completion of one single epoch\n",
    "\n",
    "All, the methods defined are quite simple and I hope you will get the hang of it in no time."
   ]
  },
  {
   "cell_type": "code",
   "execution_count": 167,
   "metadata": {},
   "outputs": [],
   "source": [
    "class OCRTrainer(object):\n",
    "    def __init__(self, opt):\n",
    "        super(OCRTrainer, self).__init__()\n",
    "        self.data_train = opt['data_train']\n",
    "        self.data_val = opt['data_val']\n",
    "        self.model = opt['model']\n",
    "        self.criterion = opt['criterion']\n",
    "        self.optimizer = opt['optimizer']\n",
    "        self.schedule = opt['schedule']\n",
    "        self.converter = OCRLabelConverter(opt['alphabet'])\n",
    "        self.evaluator = Eval()\n",
    "        print('Scheduling is {}'.format(self.schedule))\n",
    "        self.scheduler = CosineAnnealingLR(self.optimizer, T_max=opt['epochs'])\n",
    "        self.batch_size = opt['batch_size']\n",
    "        self.count = opt['epoch']\n",
    "        self.epochs = opt['epochs']\n",
    "        self.cuda = opt['cuda']\n",
    "        self.collate_fn = opt['collate_fn']\n",
    "        self.init_meters()\n",
    "\n",
    "    def init_meters(self):\n",
    "        self.avgTrainLoss = AverageMeter(\"Train loss\")\n",
    "        self.avgTrainCharAccuracy = AverageMeter(\"Train Character Accuracy\")\n",
    "        self.avgTrainWordAccuracy = AverageMeter(\"Train Word Accuracy\")\n",
    "        self.avgValLoss = AverageMeter(\"Validation loss\")\n",
    "        self.avgValCharAccuracy = AverageMeter(\"Validation Character Accuracy\")\n",
    "        self.avgValWordAccuracy = AverageMeter(\"Validation Word Accuracy\")\n",
    "\n",
    "    def forward(self, x):\n",
    "        logits = self.model(x)\n",
    "        return logits.transpose(1, 0)\n",
    "\n",
    "    def loss_fn(self, logits, targets, pred_sizes, target_sizes):\n",
    "        loss = self.criterion(logits, targets, pred_sizes, target_sizes)\n",
    "        return loss\n",
    "\n",
    "    def step(self):\n",
    "        self.max_grad_norm = 0.05\n",
    "        clip_grad_norm_(self.model.parameters(), self.max_grad_norm)\n",
    "        self.optimizer.step()\n",
    "    \n",
    "    def schedule_lr(self):\n",
    "        if self.schedule:\n",
    "            self.scheduler.step()\n",
    "\n",
    "    def _run_batch(self, batch, report_accuracy=False, validation=False):\n",
    "        input_, targets = batch['img'], batch['label']\n",
    "        input_ = input_.cuda()\n",
    "        targets, lengths = self.converter.encode(targets)\n",
    "        logits = self.forward(input_)\n",
    "        logits = logits.contiguous().cpu()\n",
    "        logits = torch.nn.functional.log_softmax(logits, 2)\n",
    "        T, B, H = logits.size()\n",
    "        pred_sizes = torch.LongTensor([T for i in range(B)])\n",
    "        targets= targets.view(-1).contiguous()\n",
    "        loss = self.loss_fn(logits, targets, pred_sizes, lengths)\n",
    "        if report_accuracy:\n",
    "            probs, preds = logits.max(2)\n",
    "            preds = preds.transpose(1, 0).contiguous().view(-1)\n",
    "            sim_preds = self.converter.decode(preds.data, pred_sizes.data, raw=False)\n",
    "            ca = np.mean((list(map(self.evaluator.char_accuracy, list(zip(sim_preds, batch['label']))))))\n",
    "            wa = np.mean((list(map(self.evaluator.word_accuracy, list(zip(sim_preds, batch['label']))))))\n",
    "        return loss, ca, wa\n",
    "\n",
    "    def run_epoch(self, validation=False):\n",
    "        if not validation:\n",
    "            loader = self.train_dataloader()\n",
    "            pbar = tqdm(loader, desc='Epoch: [%d]/[%d] Training'%(self.count, \n",
    "                self.epochs), leave=True)\n",
    "            self.model.train()\n",
    "        else:\n",
    "            loader = self.val_dataloader()\n",
    "            pbar = tqdm(loader, desc='Validating', leave=True)\n",
    "            self.model.eval()\n",
    "        outputs = []\n",
    "        for batch_nb, batch in enumerate(pbar):\n",
    "            if not validation:\n",
    "                output = self.training_step(batch)\n",
    "            else:\n",
    "                output = self.validation_step(batch)\n",
    "            pbar.set_postfix(output)\n",
    "            outputs.append(output)\n",
    "        self.schedule_lr()\n",
    "        if not validation:\n",
    "            result = self.train_end(outputs)\n",
    "        else:\n",
    "            result = self.validation_end(outputs)\n",
    "        return result\n",
    "\n",
    "    def training_step(self, batch):\n",
    "        loss, ca, wa = self._run_batch(batch, report_accuracy=True)\n",
    "        self.optimizer.zero_grad()\n",
    "        loss.backward()\n",
    "        self.step()\n",
    "        output = OrderedDict({\n",
    "            'loss': abs(loss.item()),\n",
    "            'train_ca': ca.item(),\n",
    "            'train_wa': wa.item()\n",
    "            })\n",
    "        return output\n",
    "\n",
    "    def validation_step(self, batch):\n",
    "        loss, ca, wa = self._run_batch(batch, report_accuracy=True, validation=True)\n",
    "        output = OrderedDict({\n",
    "            'val_loss': abs(loss.item()),\n",
    "            'val_ca': ca.item(),\n",
    "            'val_wa': wa.item()\n",
    "            })\n",
    "        return output\n",
    "\n",
    "    def train_dataloader(self):\n",
    "        # logging.info('training data loader called')\n",
    "        loader = torch.utils.data.DataLoader(self.data_train,\n",
    "                batch_size=self.batch_size,\n",
    "                collate_fn=self.collate_fn,\n",
    "                shuffle=True)\n",
    "        return loader\n",
    "        \n",
    "    def val_dataloader(self):\n",
    "        # logging.info('val data loader called')\n",
    "        loader = torch.utils.data.DataLoader(self.data_val,\n",
    "                batch_size=self.batch_size,\n",
    "                collate_fn=self.collate_fn)\n",
    "        return loader\n",
    "\n",
    "    def train_end(self, outputs):\n",
    "        for output in outputs:\n",
    "            self.avgTrainLoss.add(output['loss'])\n",
    "            self.avgTrainCharAccuracy.add(output['train_ca'])\n",
    "            self.avgTrainWordAccuracy.add(output['train_wa'])\n",
    "\n",
    "        train_loss_mean = abs(self.avgTrainLoss.compute())\n",
    "        train_ca_mean = self.avgTrainCharAccuracy.compute()\n",
    "        train_wa_mean = self.avgTrainWordAccuracy.compute()\n",
    "\n",
    "        result = {'train_loss': train_loss_mean, 'train_ca': train_ca_mean,\n",
    "        'train_wa': train_wa_mean}\n",
    "        # result = {'progress_bar': tqdm_dict, 'log': tqdm_dict, 'val_loss': train_loss_mean}\n",
    "        return result\n",
    "\n",
    "    def validation_end(self, outputs):\n",
    "        for output in outputs:\n",
    "            self.avgValLoss.add(output['val_loss'])\n",
    "            self.avgValCharAccuracy.add(output['val_ca'])\n",
    "            self.avgValWordAccuracy.add(output['val_wa'])\n",
    "\n",
    "        val_loss_mean = abs(self.avgValLoss.compute())\n",
    "        val_ca_mean = self.avgValCharAccuracy.compute()\n",
    "        val_wa_mean = self.avgValWordAccuracy.compute()\n",
    "\n",
    "        result = {'val_loss': val_loss_mean, 'val_ca': val_ca_mean,\n",
    "        'val_wa': val_wa_mean}\n",
    "        return result"
   ]
  },
  {
   "cell_type": "markdown",
   "metadata": {},
   "source": [
    "## Putting Everything Together\n",
    "\n",
    "And, finally, we have the `Learner` class. It implements a couple of more methods like the `save` and `load` model. It also tracks the losses and saves them in a `csv` file. This comes in handy if we want to analyze the behaviour of our training and validation loops. It initializes our `OCRTrainer` module with the necessary hyperparameters and later calls the `fit` method which runs the training loop.\n",
    "\n",
    "Besides these methods, we have a bunch of helper methods like the `OCRLabel_converter`, `Eval` and `Averagemeter`. I am not including them in this notebook, instead, I have written them in utils.py file and I am importing them from there. In case you want to take a peek, feel free to tinker with the utils.py file. All the necessary documentation is provided in the file itself."
   ]
  },
  {
   "cell_type": "code",
   "execution_count": 168,
   "metadata": {},
   "outputs": [],
   "source": [
    "class Learner(object):\n",
    "    def __init__(self, model, optimizer, savepath=None, resume=False):\n",
    "        self.model = model\n",
    "        self.optimizer = optimizer\n",
    "        self.savepath = os.path.join(savepath, 'best.ckpt')\n",
    "        self.cuda = torch.cuda.is_available() \n",
    "        self.cuda_count = torch.cuda.device_count()\n",
    "        if self.cuda:\n",
    "            self.model = self.model.cuda()\n",
    "        self.epoch = 0\n",
    "        if self.cuda_count > 1:\n",
    "            print(\"Let's use\", torch.cuda.device_count(), \"GPUs!\")\n",
    "            self.model = nn.DataParallel(self.model)\n",
    "        self.best_score = None\n",
    "        if resume and os.path.exists(self.savepath):\n",
    "            self.checkpoint = torch.load(self.savepath)\n",
    "            self.epoch = self.checkpoint['epoch']\n",
    "            self.best_score=self.checkpoint['best']\n",
    "            self.load()\n",
    "        else:\n",
    "            print('checkpoint does not exist')\n",
    "\n",
    "    def fit(self, opt):\n",
    "        opt['cuda'] = self.cuda\n",
    "        opt['model'] = self.model\n",
    "        opt['optimizer'] = self.optimizer\n",
    "        logging.basicConfig(filename=\"%s/%s.csv\" %(opt['log_dir'], opt['name']), level=logging.INFO)\n",
    "        self.saver = EarlyStopping(self.savepath, patience=15, verbose=True, best_score=self.best_score)\n",
    "        opt['epoch'] = self.epoch\n",
    "        trainer = OCRTrainer(opt)\n",
    "        \n",
    "        for epoch in range(opt['epoch'], opt['epochs']):\n",
    "            train_result = trainer.run_epoch()\n",
    "            val_result = trainer.run_epoch(validation=True)\n",
    "            trainer.count = epoch\n",
    "            info = '%d, %.6f, %.6f, %.6f, %.6f, %.6f, %.6f'%(epoch, train_result['train_loss'], \n",
    "                val_result['val_loss'], train_result['train_ca'],  val_result['val_ca'],\n",
    "                train_result['train_wa'], val_result['val_wa'])\n",
    "            if epoch % 5 == 0:\n",
    "                logging.info(info)\n",
    "            self.val_loss = val_result['val_loss']\n",
    "            print(self.val_loss)\n",
    "            if self.savepath:\n",
    "                self.save(epoch)\n",
    "            if self.saver.early_stop:\n",
    "                print(\"Early stopping\")\n",
    "                break\n",
    "\n",
    "    def load(self):\n",
    "        \n",
    "        print('Loading checkpoint at {} trained for {} epochs'.format(self.savepath, self.checkpoint['epoch']))\n",
    "        self.model.load_state_dict(self.checkpoint['state_dict'], strict=False)\n",
    "        if 'opt_state_dict' in self.checkpoint.keys():\n",
    "            print('Loading optimizer')\n",
    "            self.optimizer.load_state_dict(self.checkpoint['opt_state_dict'], strict=False)\n",
    "\n",
    "    def save(self, epoch):\n",
    "        self.saver(self.val_loss, epoch, self.model, self.optimizer)"
   ]
  },
  {
   "cell_type": "markdown",
   "metadata": {},
   "source": [
    "### Defining the hyperparameters\n",
    "\n",
    "Okay, now that we have set the premise, its time to unfold the drama. We begin by defining our vocabulary i.e. the alphabets which serve as the output classes for our model.\n",
    "We define a suitable name for this experiment which will also serve as the folder name where the checkpoints and log files will be stored. We also define the hyper-parameters like the batch size, learning rate, image height, number of channels etc.\n",
    "\n",
    "Then we initialize our Dataset class and split the data into train and validation. We then proceed to initialize our Model and CTCLoss and finally call the `learner.fit` function.\n",
    "\n",
    "Once the training is over we can find the saved model in the `checkpoints/name` folder. We may load the model and evaluate its performance on the test data or finetune it on some other data."
   ]
  },
  {
   "cell_type": "code",
   "execution_count": 169,
   "metadata": {},
   "outputs": [
    {
     "name": "stdout",
     "output_type": "stream",
     "text": [
      "env: CUDA_VISIBLE_DEVICES=3\n",
      "Traininig Data Size:135\n",
      "Test Data Size:41\n",
      "Val Data Size:33\n",
      "checkpoint does not exist\n",
      "None\n",
      "Scheduling is False\n"
     ]
    },
    {
     "name": "stderr",
     "output_type": "stream",
     "text": [
      "Epoch: [0]/[150] Training: 100%|██████████| 2/2 [00:00<00:00,  3.19it/s, loss=10.1, train_ca=0, train_wa=0]     \n",
      "Validating: 100%|██████████| 1/1 [00:00<00:00,  7.73it/s, val_loss=11.8, val_ca=0, val_wa=0]\n"
     ]
    },
    {
     "name": "stdout",
     "output_type": "stream",
     "text": [
      "11.777775764465332\n",
      "Validation loss decreased (inf --> 11.777776).  Saving model ...\n"
     ]
    },
    {
     "name": "stderr",
     "output_type": "stream",
     "text": [
      "Epoch: [0]/[150] Training: 100%|██████████| 2/2 [00:00<00:00,  3.47it/s, loss=3.89, train_ca=0, train_wa=0]\n",
      "Validating: 100%|██████████| 1/1 [00:00<00:00,  7.94it/s, val_loss=3.65, val_ca=0, val_wa=0]\n"
     ]
    },
    {
     "name": "stdout",
     "output_type": "stream",
     "text": [
      "7.714713096618652\n",
      "Validation loss decreased (11.777776 --> 7.714713).  Saving model ...\n"
     ]
    },
    {
     "name": "stderr",
     "output_type": "stream",
     "text": [
      "Epoch: [1]/[150] Training: 100%|██████████| 2/2 [00:00<00:00,  3.79it/s, loss=4.38, train_ca=0, train_wa=0]\n",
      "Validating: 100%|██████████| 1/1 [00:00<00:00,  7.95it/s, val_loss=4.87, val_ca=0, val_wa=0]\n"
     ]
    },
    {
     "name": "stdout",
     "output_type": "stream",
     "text": [
      "6.767570495605469\n",
      "Validation loss decreased (7.714713 --> 6.767570).  Saving model ...\n"
     ]
    },
    {
     "name": "stderr",
     "output_type": "stream",
     "text": [
      "Epoch: [2]/[150] Training: 100%|██████████| 2/2 [00:00<00:00,  3.54it/s, loss=4.24, train_ca=0, train_wa=0]\n",
      "Validating: 100%|██████████| 1/1 [00:00<00:00,  8.12it/s, val_loss=3.86, val_ca=0, val_wa=0]\n"
     ]
    },
    {
     "name": "stdout",
     "output_type": "stream",
     "text": [
      "6.0394644141197205\n",
      "Validation loss decreased (6.767570 --> 6.039464).  Saving model ...\n"
     ]
    },
    {
     "name": "stderr",
     "output_type": "stream",
     "text": [
      "Epoch: [3]/[150] Training: 100%|██████████| 2/2 [00:00<00:00,  3.61it/s, loss=3.51, train_ca=0, train_wa=0]\n",
      "Validating: 100%|██████████| 1/1 [00:00<00:00,  7.91it/s, val_loss=3.63, val_ca=0, val_wa=0]\n"
     ]
    },
    {
     "name": "stdout",
     "output_type": "stream",
     "text": [
      "5.557078790664673\n",
      "Validation loss decreased (6.039464 --> 5.557079).  Saving model ...\n"
     ]
    },
    {
     "name": "stderr",
     "output_type": "stream",
     "text": [
      "Epoch: [4]/[150] Training: 100%|██████████| 2/2 [00:00<00:00,  3.56it/s, loss=3.94, train_ca=0, train_wa=0]\n",
      "Validating: 100%|██████████| 1/1 [00:00<00:00,  7.26it/s, val_loss=3.72, val_ca=0, val_wa=0]\n"
     ]
    },
    {
     "name": "stdout",
     "output_type": "stream",
     "text": [
      "5.251731793085734\n",
      "Validation loss decreased (5.557079 --> 5.251732).  Saving model ...\n"
     ]
    },
    {
     "name": "stderr",
     "output_type": "stream",
     "text": [
      "Epoch: [5]/[150] Training: 100%|██████████| 2/2 [00:00<00:00,  3.58it/s, loss=3.75, train_ca=0, train_wa=0]\n",
      "Validating: 100%|██████████| 1/1 [00:00<00:00,  8.00it/s, val_loss=3.55, val_ca=0, val_wa=0]\n"
     ]
    },
    {
     "name": "stdout",
     "output_type": "stream",
     "text": [
      "5.008606467928205\n",
      "Validation loss decreased (5.251732 --> 5.008606).  Saving model ...\n"
     ]
    },
    {
     "name": "stderr",
     "output_type": "stream",
     "text": [
      "Epoch: [6]/[150] Training: 100%|██████████| 2/2 [00:00<00:00,  3.53it/s, loss=3.51, train_ca=0, train_wa=0]\n",
      "Validating: 100%|██████████| 1/1 [00:00<00:00,  7.89it/s, val_loss=3.57, val_ca=0, val_wa=0]\n"
     ]
    },
    {
     "name": "stdout",
     "output_type": "stream",
     "text": [
      "4.828641623258591\n",
      "Validation loss decreased (5.008606 --> 4.828642).  Saving model ...\n"
     ]
    },
    {
     "name": "stderr",
     "output_type": "stream",
     "text": [
      "Epoch: [7]/[150] Training: 100%|██████████| 2/2 [00:00<00:00,  3.54it/s, loss=3.55, train_ca=0, train_wa=0]\n",
      "Validating: 100%|██████████| 1/1 [00:00<00:00,  7.91it/s, val_loss=3.57, val_ca=0, val_wa=0]\n"
     ]
    },
    {
     "name": "stdout",
     "output_type": "stream",
     "text": [
      "4.688267628351848\n",
      "Validation loss decreased (4.828642 --> 4.688268).  Saving model ...\n"
     ]
    },
    {
     "name": "stderr",
     "output_type": "stream",
     "text": [
      "Epoch: [8]/[150] Training: 100%|██████████| 2/2 [00:00<00:00,  3.48it/s, loss=3.4, train_ca=0, train_wa=0] \n",
      "Validating: 100%|██████████| 1/1 [00:00<00:00,  7.78it/s, val_loss=3.52, val_ca=0, val_wa=0]\n"
     ]
    },
    {
     "name": "stdout",
     "output_type": "stream",
     "text": [
      "4.571442365646362\n",
      "Validation loss decreased (4.688268 --> 4.571442).  Saving model ...\n"
     ]
    },
    {
     "name": "stderr",
     "output_type": "stream",
     "text": [
      "Epoch: [9]/[150] Training: 100%|██████████| 2/2 [00:00<00:00,  3.73it/s, loss=3.47, train_ca=0, train_wa=0]\n",
      "Validating: 100%|██████████| 1/1 [00:00<00:00,  7.92it/s, val_loss=3.48, val_ca=0, val_wa=0]\n"
     ]
    },
    {
     "name": "stdout",
     "output_type": "stream",
     "text": [
      "4.472011024301702\n",
      "Validation loss decreased (4.571442 --> 4.472011).  Saving model ...\n"
     ]
    },
    {
     "name": "stderr",
     "output_type": "stream",
     "text": [
      "Epoch: [10]/[150] Training: 100%|██████████| 2/2 [00:00<00:00,  3.58it/s, loss=3.45, train_ca=0, train_wa=0]\n",
      "Validating: 100%|██████████| 1/1 [00:00<00:00,  7.99it/s, val_loss=3.46, val_ca=0, val_wa=0]\n"
     ]
    },
    {
     "name": "stdout",
     "output_type": "stream",
     "text": [
      "4.387844681739807\n",
      "Validation loss decreased (4.472011 --> 4.387845).  Saving model ...\n"
     ]
    },
    {
     "name": "stderr",
     "output_type": "stream",
     "text": [
      "Epoch: [11]/[150] Training: 100%|██████████| 2/2 [00:00<00:00,  3.58it/s, loss=3.65, train_ca=0, train_wa=0]\n",
      "Validating: 100%|██████████| 1/1 [00:00<00:00,  7.83it/s, val_loss=3.46, val_ca=0, val_wa=0]\n"
     ]
    },
    {
     "name": "stdout",
     "output_type": "stream",
     "text": [
      "4.316818439043486\n",
      "Validation loss decreased (4.387845 --> 4.316818).  Saving model ...\n"
     ]
    },
    {
     "name": "stderr",
     "output_type": "stream",
     "text": [
      "Epoch: [12]/[150] Training: 100%|██████████| 2/2 [00:00<00:00,  3.50it/s, loss=3.48, train_ca=0, train_wa=0]\n",
      "Validating: 100%|██████████| 1/1 [00:00<00:00,  8.06it/s, val_loss=3.42, val_ca=0, val_wa=0]\n"
     ]
    },
    {
     "name": "stdout",
     "output_type": "stream",
     "text": [
      "4.2526251418249945\n",
      "Validation loss decreased (4.316818 --> 4.252625).  Saving model ...\n"
     ]
    },
    {
     "name": "stderr",
     "output_type": "stream",
     "text": [
      "Epoch: [13]/[150] Training: 100%|██████████| 2/2 [00:00<00:00,  3.58it/s, loss=3.32, train_ca=0, train_wa=0]\n",
      "Validating: 100%|██████████| 1/1 [00:00<00:00,  7.92it/s, val_loss=3.42, val_ca=0, val_wa=0]\n"
     ]
    },
    {
     "name": "stdout",
     "output_type": "stream",
     "text": [
      "4.196844959259034\n",
      "Validation loss decreased (4.252625 --> 4.196845).  Saving model ...\n"
     ]
    },
    {
     "name": "stderr",
     "output_type": "stream",
     "text": [
      "Epoch: [14]/[150] Training: 100%|██████████| 2/2 [00:00<00:00,  3.52it/s, loss=3.18, train_ca=0, train_wa=0]\n",
      "Validating: 100%|██████████| 1/1 [00:00<00:00,  7.98it/s, val_loss=3.4, val_ca=0, val_wa=0]\n"
     ]
    },
    {
     "name": "stdout",
     "output_type": "stream",
     "text": [
      "4.146734923124313\n",
      "Validation loss decreased (4.196845 --> 4.146735).  Saving model ...\n"
     ]
    },
    {
     "name": "stderr",
     "output_type": "stream",
     "text": [
      "Epoch: [15]/[150] Training: 100%|██████████| 2/2 [00:00<00:00,  3.55it/s, loss=3.2, train_ca=0, train_wa=0] \n",
      "Validating: 100%|██████████| 1/1 [00:00<00:00,  7.95it/s, val_loss=3.36, val_ca=0, val_wa=0]\n"
     ]
    },
    {
     "name": "stdout",
     "output_type": "stream",
     "text": [
      "4.100551619249232\n",
      "Validation loss decreased (4.146735 --> 4.100552).  Saving model ...\n"
     ]
    },
    {
     "name": "stderr",
     "output_type": "stream",
     "text": [
      "Epoch: [16]/[150] Training: 100%|██████████| 2/2 [00:00<00:00,  3.56it/s, loss=3.47, train_ca=0, train_wa=0]\n",
      "Validating: 100%|██████████| 1/1 [00:00<00:00,  7.91it/s, val_loss=3.36, val_ca=0, val_wa=0]\n"
     ]
    },
    {
     "name": "stdout",
     "output_type": "stream",
     "text": [
      "4.059169914987352\n",
      "Validation loss decreased (4.100552 --> 4.059170).  Saving model ...\n"
     ]
    },
    {
     "name": "stderr",
     "output_type": "stream",
     "text": [
      "Epoch: [17]/[150] Training: 100%|██████████| 2/2 [00:00<00:00,  3.52it/s, loss=3.12, train_ca=0, train_wa=0]\n",
      "Validating: 100%|██████████| 1/1 [00:00<00:00,  7.49it/s, val_loss=3.33, val_ca=1.21, val_wa=0]\n"
     ]
    },
    {
     "name": "stdout",
     "output_type": "stream",
     "text": [
      "4.02100049821954\n",
      "Validation loss decreased (4.059170 --> 4.021000).  Saving model ...\n"
     ]
    },
    {
     "name": "stderr",
     "output_type": "stream",
     "text": [
      "Epoch: [18]/[150] Training: 100%|██████████| 2/2 [00:00<00:00,  3.54it/s, loss=3.02, train_ca=6.23, train_wa=0]\n",
      "Validating: 100%|██████████| 1/1 [00:00<00:00,  7.96it/s, val_loss=3.33, val_ca=2.58, val_wa=0]\n"
     ]
    },
    {
     "name": "stdout",
     "output_type": "stream",
     "text": [
      "3.986267364025116\n",
      "Validation loss decreased (4.021000 --> 3.986267).  Saving model ...\n"
     ]
    },
    {
     "name": "stderr",
     "output_type": "stream",
     "text": [
      "Epoch: [19]/[150] Training: 100%|██████████| 2/2 [00:00<00:00,  3.56it/s, loss=3.14, train_ca=7.66, train_wa=0]\n",
      "Validating: 100%|██████████| 1/1 [00:00<00:00,  7.86it/s, val_loss=3.29, val_ca=4.7, val_wa=0]\n"
     ]
    },
    {
     "name": "stdout",
     "output_type": "stream",
     "text": [
      "3.9530586628686812\n",
      "Validation loss decreased (3.986267 --> 3.953059).  Saving model ...\n"
     ]
    },
    {
     "name": "stderr",
     "output_type": "stream",
     "text": [
      "Epoch: [20]/[150] Training: 100%|██████████| 2/2 [00:00<00:00,  3.54it/s, loss=3.41, train_ca=6.54, train_wa=0]\n",
      "Validating: 100%|██████████| 1/1 [00:00<00:00,  7.91it/s, val_loss=3.26, val_ca=4.7, val_wa=0]\n"
     ]
    },
    {
     "name": "stdout",
     "output_type": "stream",
     "text": [
      "3.9213723811236294\n",
      "Validation loss decreased (3.953059 --> 3.921372).  Saving model ...\n"
     ]
    },
    {
     "name": "stderr",
     "output_type": "stream",
     "text": [
      "Epoch: [21]/[150] Training: 100%|██████████| 2/2 [00:00<00:00,  3.54it/s, loss=3.05, train_ca=5.71, train_wa=0]\n",
      "Validating: 100%|██████████| 1/1 [00:00<00:00,  7.94it/s, val_loss=3.26, val_ca=5.43, val_wa=0]\n"
     ]
    },
    {
     "name": "stdout",
     "output_type": "stream",
     "text": [
      "3.8925538892331333\n",
      "Validation loss decreased (3.921372 --> 3.892554).  Saving model ...\n"
     ]
    },
    {
     "name": "stderr",
     "output_type": "stream",
     "text": [
      "Epoch: [22]/[150] Training: 100%|██████████| 2/2 [00:00<00:00,  3.51it/s, loss=3.39, train_ca=8.57, train_wa=0]\n",
      "Validating: 100%|██████████| 1/1 [00:00<00:00,  7.89it/s, val_loss=3.32, val_ca=4.24, val_wa=0]\n"
     ]
    },
    {
     "name": "stdout",
     "output_type": "stream",
     "text": [
      "3.8688486913839975\n",
      "Validation loss decreased (3.892554 --> 3.868849).  Saving model ...\n"
     ]
    },
    {
     "name": "stderr",
     "output_type": "stream",
     "text": [
      "Epoch: [23]/[150] Training: 100%|██████████| 2/2 [00:00<00:00,  3.50it/s, loss=3.05, train_ca=5.71, train_wa=0]\n",
      "Validating: 100%|██████████| 1/1 [00:00<00:00,  7.71it/s, val_loss=3.25, val_ca=6.97, val_wa=0]\n"
     ]
    },
    {
     "name": "stdout",
     "output_type": "stream",
     "text": [
      "3.8442345809936525\n",
      "Validation loss decreased (3.868849 --> 3.844235).  Saving model ...\n"
     ]
    },
    {
     "name": "stderr",
     "output_type": "stream",
     "text": [
      "Epoch: [24]/[150] Training: 100%|██████████| 2/2 [00:00<00:00,  3.51it/s, loss=3.14, train_ca=6.73, train_wa=0]\n",
      "Validating: 100%|██████████| 1/1 [00:00<00:00,  7.69it/s, val_loss=3.25, val_ca=4.7, val_wa=0]\n"
     ]
    },
    {
     "name": "stdout",
     "output_type": "stream",
     "text": [
      "3.821498366502615\n",
      "Validation loss decreased (3.844235 --> 3.821498).  Saving model ...\n"
     ]
    },
    {
     "name": "stderr",
     "output_type": "stream",
     "text": [
      "Epoch: [25]/[150] Training: 100%|██████████| 2/2 [00:00<00:00,  3.71it/s, loss=3.02, train_ca=4.29, train_wa=0]\n",
      "Validating: 100%|██████████| 1/1 [00:00<00:00,  7.90it/s, val_loss=3.23, val_ca=7.27, val_wa=0]\n"
     ]
    },
    {
     "name": "stdout",
     "output_type": "stream",
     "text": [
      "3.799424091974894\n",
      "Validation loss decreased (3.821498 --> 3.799424).  Saving model ...\n"
     ]
    },
    {
     "name": "stderr",
     "output_type": "stream",
     "text": [
      "Epoch: [26]/[150] Training: 100%|██████████| 2/2 [00:00<00:00,  3.35it/s, loss=2.95, train_ca=5.87, train_wa=0]\n",
      "Validating: 100%|██████████| 1/1 [00:00<00:00,  7.88it/s, val_loss=3.22, val_ca=5.61, val_wa=0]\n"
     ]
    },
    {
     "name": "stdout",
     "output_type": "stream",
     "text": [
      "3.7787558095795766\n",
      "Validation loss decreased (3.799424 --> 3.778756).  Saving model ...\n"
     ]
    },
    {
     "name": "stderr",
     "output_type": "stream",
     "text": [
      "Epoch: [27]/[150] Training: 100%|██████████| 2/2 [00:00<00:00,  3.61it/s, loss=3.02, train_ca=4.29, train_wa=0]\n",
      "Validating: 100%|██████████| 1/1 [00:00<00:00,  7.86it/s, val_loss=3.2, val_ca=7.1, val_wa=0]\n"
     ]
    },
    {
     "name": "stdout",
     "output_type": "stream",
     "text": [
      "3.7587278300318223\n",
      "Validation loss decreased (3.778756 --> 3.758728).  Saving model ...\n"
     ]
    },
    {
     "name": "stderr",
     "output_type": "stream",
     "text": [
      "Epoch: [28]/[150] Training: 100%|██████████| 2/2 [00:00<00:00,  3.50it/s, loss=2.89, train_ca=7.3, train_wa=0] \n",
      "Validating: 100%|██████████| 1/1 [00:00<00:00,  7.90it/s, val_loss=3.19, val_ca=6.19, val_wa=0]\n"
     ]
    },
    {
     "name": "stdout",
     "output_type": "stream",
     "text": [
      "3.7399210214614866\n",
      "Validation loss decreased (3.758728 --> 3.739921).  Saving model ...\n"
     ]
    },
    {
     "name": "stderr",
     "output_type": "stream",
     "text": [
      "Epoch: [29]/[150] Training: 100%|██████████| 2/2 [00:00<00:00,  3.70it/s, loss=3.14, train_ca=7.62, train_wa=0]\n",
      "Validating: 100%|██████████| 1/1 [00:00<00:00,  7.77it/s, val_loss=3.18, val_ca=4.68, val_wa=0]\n"
     ]
    },
    {
     "name": "stdout",
     "output_type": "stream",
     "text": [
      "3.721977303105016\n",
      "Validation loss decreased (3.739921 --> 3.721977).  Saving model ...\n"
     ]
    },
    {
     "name": "stderr",
     "output_type": "stream",
     "text": [
      "Epoch: [30]/[150] Training: 100%|██████████| 2/2 [00:00<00:00,  3.59it/s, loss=2.91, train_ca=5.51, train_wa=0]\n",
      "Validating: 100%|██████████| 1/1 [00:00<00:00,  7.86it/s, val_loss=3.16, val_ca=6.57, val_wa=0]\n"
     ]
    },
    {
     "name": "stdout",
     "output_type": "stream",
     "text": [
      "3.7045665308833122\n",
      "Validation loss decreased (3.721977 --> 3.704567).  Saving model ...\n"
     ]
    },
    {
     "name": "stderr",
     "output_type": "stream",
     "text": [
      "Epoch: [31]/[150] Training: 100%|██████████| 2/2 [00:00<00:00,  3.50it/s, loss=2.95, train_ca=1.43, train_wa=0]\n",
      "Validating: 100%|██████████| 1/1 [00:00<00:00,  7.95it/s, val_loss=3.16, val_ca=7.58, val_wa=0]\n"
     ]
    },
    {
     "name": "stdout",
     "output_type": "stream",
     "text": [
      "3.68811085729888\n",
      "Validation loss decreased (3.704567 --> 3.688111).  Saving model ...\n"
     ]
    },
    {
     "name": "stderr",
     "output_type": "stream",
     "text": [
      "Epoch: [32]/[150] Training: 100%|██████████| 2/2 [00:00<00:00,  3.50it/s, loss=3, train_ca=5.87, train_wa=0]   \n",
      "Validating: 100%|██████████| 1/1 [00:00<00:00,  7.85it/s, val_loss=3.17, val_ca=7.58, val_wa=0]\n"
     ]
    },
    {
     "name": "stdout",
     "output_type": "stream",
     "text": [
      "3.6728905930238613\n",
      "Validation loss decreased (3.688111 --> 3.672891).  Saving model ...\n"
     ]
    },
    {
     "name": "stderr",
     "output_type": "stream",
     "text": [
      "Epoch: [33]/[150] Training: 100%|██████████| 2/2 [00:00<00:00,  3.50it/s, loss=3.17, train_ca=5.71, train_wa=0]\n",
      "Validating: 100%|██████████| 1/1 [00:00<00:00,  7.81it/s, val_loss=3.15, val_ca=5.21, val_wa=0]\n"
     ]
    },
    {
     "name": "stdout",
     "output_type": "stream",
     "text": [
      "3.657997601372855\n",
      "Validation loss decreased (3.672891 --> 3.657998).  Saving model ...\n"
     ]
    },
    {
     "name": "stderr",
     "output_type": "stream",
     "text": [
      "Epoch: [34]/[150] Training: 100%|██████████| 2/2 [00:00<00:00,  3.49it/s, loss=2.9, train_ca=10.3, train_wa=0] \n",
      "Validating: 100%|██████████| 1/1 [00:00<00:00,  7.56it/s, val_loss=3.13, val_ca=4.68, val_wa=0]\n"
     ]
    },
    {
     "name": "stdout",
     "output_type": "stream",
     "text": [
      "3.643466843499078\n",
      "Validation loss decreased (3.657998 --> 3.643467).  Saving model ...\n"
     ]
    },
    {
     "name": "stderr",
     "output_type": "stream",
     "text": [
      "Epoch: [35]/[150] Training: 100%|██████████| 2/2 [00:00<00:00,  3.49it/s, loss=3.09, train_ca=6.75, train_wa=0]\n",
      "Validating: 100%|██████████| 1/1 [00:00<00:00,  7.41it/s, val_loss=3.12, val_ca=6.36, val_wa=0]\n"
     ]
    },
    {
     "name": "stdout",
     "output_type": "stream",
     "text": [
      "3.629396354829943\n",
      "Validation loss decreased (3.643467 --> 3.629396).  Saving model ...\n"
     ]
    },
    {
     "name": "stderr",
     "output_type": "stream",
     "text": [
      "Epoch: [36]/[150] Training: 100%|██████████| 2/2 [00:00<00:00,  3.32it/s, loss=2.87, train_ca=7.62, train_wa=0]\n",
      "Validating: 100%|██████████| 1/1 [00:00<00:00,  7.37it/s, val_loss=3.12, val_ca=6.74, val_wa=0]\n"
     ]
    },
    {
     "name": "stdout",
     "output_type": "stream",
     "text": [
      "3.6160347147991785\n",
      "Validation loss decreased (3.629396 --> 3.616035).  Saving model ...\n"
     ]
    },
    {
     "name": "stderr",
     "output_type": "stream",
     "text": [
      "Epoch: [37]/[150] Training: 100%|██████████| 2/2 [00:00<00:00,  3.51it/s, loss=3.03, train_ca=8.44, train_wa=0]\n",
      "Validating: 100%|██████████| 1/1 [00:00<00:00,  7.91it/s, val_loss=3.13, val_ca=5.45, val_wa=0]\n"
     ]
    },
    {
     "name": "stdout",
     "output_type": "stream",
     "text": [
      "3.603475943589822\n",
      "Validation loss decreased (3.616035 --> 3.603476).  Saving model ...\n"
     ]
    },
    {
     "name": "stderr",
     "output_type": "stream",
     "text": [
      "Epoch: [38]/[150] Training: 100%|██████████| 2/2 [00:00<00:00,  3.67it/s, loss=3.25, train_ca=5.66, train_wa=0]\n",
      "Validating: 100%|██████████| 1/1 [00:00<00:00,  7.25it/s, val_loss=3.13, val_ca=6.21, val_wa=0]\n"
     ]
    },
    {
     "name": "stdout",
     "output_type": "stream",
     "text": [
      "3.5915890753269197\n",
      "Validation loss decreased (3.603476 --> 3.591589).  Saving model ...\n"
     ]
    },
    {
     "name": "stderr",
     "output_type": "stream",
     "text": [
      "Epoch: [39]/[150] Training: 100%|██████████| 2/2 [00:00<00:00,  3.50it/s, loss=2.87, train_ca=5.71, train_wa=0]\n",
      "Validating: 100%|██████████| 1/1 [00:00<00:00,  7.81it/s, val_loss=3.16, val_ca=6.97, val_wa=0]\n"
     ]
    },
    {
     "name": "stdout",
     "output_type": "stream",
     "text": [
      "3.5809599422827\n",
      "Validation loss decreased (3.591589 --> 3.580960).  Saving model ...\n"
     ]
    },
    {
     "name": "stderr",
     "output_type": "stream",
     "text": [
      "Epoch: [40]/[150] Training: 100%|██████████| 2/2 [00:00<00:00,  3.47it/s, loss=3.13, train_ca=2.45, train_wa=0]\n",
      "Validating: 100%|██████████| 1/1 [00:00<00:00,  7.87it/s, val_loss=3.19, val_ca=5.76, val_wa=0]\n"
     ]
    },
    {
     "name": "stdout",
     "output_type": "stream",
     "text": [
      "3.571748387245905\n",
      "Validation loss decreased (3.580960 --> 3.571748).  Saving model ...\n"
     ]
    },
    {
     "name": "stderr",
     "output_type": "stream",
     "text": [
      "Epoch: [41]/[150] Training: 100%|██████████| 2/2 [00:00<00:00,  3.29it/s, loss=3.05, train_ca=5.71, train_wa=0]\n",
      "Validating: 100%|██████████| 1/1 [00:00<00:00,  7.26it/s, val_loss=3.19, val_ca=5.64, val_wa=0]\n"
     ]
    },
    {
     "name": "stdout",
     "output_type": "stream",
     "text": [
      "3.5628787029621214\n",
      "Validation loss decreased (3.571748 --> 3.562879).  Saving model ...\n"
     ]
    },
    {
     "name": "stderr",
     "output_type": "stream",
     "text": [
      "Epoch: [42]/[150] Training: 100%|██████████| 2/2 [00:00<00:00,  3.25it/s, loss=2.97, train_ca=2.73, train_wa=0]\n",
      "Validating: 100%|██████████| 1/1 [00:00<00:00,  7.26it/s, val_loss=3.16, val_ca=6.95, val_wa=0]\n"
     ]
    },
    {
     "name": "stdout",
     "output_type": "stream",
     "text": [
      "3.553750688379461\n",
      "Validation loss decreased (3.562879 --> 3.553751).  Saving model ...\n"
     ]
    },
    {
     "name": "stderr",
     "output_type": "stream",
     "text": [
      "Epoch: [43]/[150] Training: 100%|██████████| 2/2 [00:00<00:00,  3.24it/s, loss=2.96, train_ca=1.79, train_wa=0]\n",
      "Validating: 100%|██████████| 1/1 [00:00<00:00,  7.32it/s, val_loss=3.18, val_ca=6.97, val_wa=0]\n"
     ]
    },
    {
     "name": "stdout",
     "output_type": "stream",
     "text": [
      "3.545521879196167\n",
      "Validation loss decreased (3.553751 --> 3.545522).  Saving model ...\n"
     ]
    },
    {
     "name": "stderr",
     "output_type": "stream",
     "text": [
      "Epoch: [44]/[150] Training: 100%|██████████| 2/2 [00:00<00:00,  3.26it/s, loss=3.08, train_ca=2.86, train_wa=0]\n",
      "Validating: 100%|██████████| 1/1 [00:00<00:00,  7.29it/s, val_loss=3.23, val_ca=6.59, val_wa=0]\n"
     ]
    },
    {
     "name": "stdout",
     "output_type": "stream",
     "text": [
      "3.538620435673258\n",
      "Validation loss decreased (3.545522 --> 3.538620).  Saving model ...\n"
     ]
    },
    {
     "name": "stderr",
     "output_type": "stream",
     "text": [
      "Epoch: [45]/[150] Training: 100%|██████████| 2/2 [00:00<00:00,  3.24it/s, loss=3.04, train_ca=8.57, train_wa=0]\n",
      "Validating: 100%|██████████| 1/1 [00:00<00:00,  7.32it/s, val_loss=3.14, val_ca=6.36, val_wa=0]\n"
     ]
    },
    {
     "name": "stdout",
     "output_type": "stream",
     "text": [
      "3.530206558552194\n",
      "Validation loss decreased (3.538620 --> 3.530207).  Saving model ...\n"
     ]
    },
    {
     "name": "stderr",
     "output_type": "stream",
     "text": [
      "Epoch: [46]/[150] Training: 100%|██████████| 2/2 [00:00<00:00,  3.26it/s, loss=2.82, train_ca=10, train_wa=0]  \n",
      "Validating: 100%|██████████| 1/1 [00:00<00:00,  7.26it/s, val_loss=3.1, val_ca=5.74, val_wa=0]\n"
     ]
    },
    {
     "name": "stdout",
     "output_type": "stream",
     "text": [
      "3.5212460110584893\n",
      "Validation loss decreased (3.530207 --> 3.521246).  Saving model ...\n"
     ]
    },
    {
     "name": "stderr",
     "output_type": "stream",
     "text": [
      "Epoch: [47]/[150] Training: 100%|██████████| 2/2 [00:00<00:00,  3.25it/s, loss=3.08, train_ca=7.04, train_wa=0]\n",
      "Validating: 100%|██████████| 1/1 [00:00<00:00,  7.17it/s, val_loss=3.12, val_ca=5.45, val_wa=0]\n"
     ]
    },
    {
     "name": "stdout",
     "output_type": "stream",
     "text": [
      "3.513116505681252\n",
      "Validation loss decreased (3.521246 --> 3.513117).  Saving model ...\n"
     ]
    },
    {
     "name": "stderr",
     "output_type": "stream",
     "text": [
      "Epoch: [48]/[150] Training: 100%|██████████| 2/2 [00:00<00:00,  3.30it/s, loss=2.71, train_ca=8.17, train_wa=0]\n",
      "Validating: 100%|██████████| 1/1 [00:00<00:00,  7.29it/s, val_loss=3.15, val_ca=5.3, val_wa=0]\n"
     ]
    },
    {
     "name": "stdout",
     "output_type": "stream",
     "text": [
      "3.505946159362793\n",
      "Validation loss decreased (3.513117 --> 3.505946).  Saving model ...\n"
     ]
    },
    {
     "name": "stderr",
     "output_type": "stream",
     "text": [
      "Epoch: [49]/[150] Training: 100%|██████████| 2/2 [00:00<00:00,  3.17it/s, loss=2.8, train_ca=10.3, train_wa=0] \n",
      "Validating: 100%|██████████| 1/1 [00:00<00:00,  7.23it/s, val_loss=3.16, val_ca=6.44, val_wa=0]\n"
     ]
    },
    {
     "name": "stdout",
     "output_type": "stream",
     "text": [
      "3.499212293063893\n",
      "Validation loss decreased (3.505946 --> 3.499212).  Saving model ...\n"
     ]
    },
    {
     "name": "stderr",
     "output_type": "stream",
     "text": [
      "Epoch: [50]/[150] Training: 100%|██████████| 2/2 [00:00<00:00,  3.22it/s, loss=3.05, train_ca=5.58, train_wa=0]\n",
      "Validating: 100%|██████████| 1/1 [00:00<00:00,  7.22it/s, val_loss=3.12, val_ca=3.54, val_wa=0]\n"
     ]
    },
    {
     "name": "stdout",
     "output_type": "stream",
     "text": [
      "3.49193785740779\n",
      "Validation loss decreased (3.499212 --> 3.491938).  Saving model ...\n"
     ]
    },
    {
     "name": "stderr",
     "output_type": "stream",
     "text": [
      "Epoch: [51]/[150] Training: 100%|██████████| 2/2 [00:00<00:00,  3.53it/s, loss=2.97, train_ca=4.76, train_wa=0]\n",
      "Validating: 100%|██████████| 1/1 [00:00<00:00,  7.89it/s, val_loss=3.11, val_ca=3.33, val_wa=0]\n"
     ]
    },
    {
     "name": "stdout",
     "output_type": "stream",
     "text": [
      "3.484813910610271\n",
      "Validation loss decreased (3.491938 --> 3.484814).  Saving model ...\n"
     ]
    },
    {
     "name": "stderr",
     "output_type": "stream",
     "text": [
      "Epoch: [52]/[150] Training: 100%|██████████| 2/2 [00:00<00:00,  3.50it/s, loss=2.93, train_ca=8.73, train_wa=0]\n",
      "Validating: 100%|██████████| 1/1 [00:00<00:00,  7.77it/s, val_loss=3.11, val_ca=6.74, val_wa=0]\n"
     ]
    },
    {
     "name": "stdout",
     "output_type": "stream",
     "text": [
      "3.4778039587868586\n",
      "Validation loss decreased (3.484814 --> 3.477804).  Saving model ...\n"
     ]
    },
    {
     "name": "stderr",
     "output_type": "stream",
     "text": [
      "Epoch: [53]/[150] Training: 100%|██████████| 2/2 [00:00<00:00,  3.48it/s, loss=2.84, train_ca=4.29, train_wa=0]\n",
      "Validating: 100%|██████████| 1/1 [00:00<00:00,  7.94it/s, val_loss=3.13, val_ca=6.44, val_wa=0]\n"
     ]
    },
    {
     "name": "stdout",
     "output_type": "stream",
     "text": [
      "3.4714394612745805\n",
      "Validation loss decreased (3.477804 --> 3.471439).  Saving model ...\n"
     ]
    },
    {
     "name": "stderr",
     "output_type": "stream",
     "text": [
      "Epoch: [54]/[150] Training: 100%|██████████| 2/2 [00:00<00:00,  3.55it/s, loss=2.69, train_ca=13.5, train_wa=0]\n",
      "Validating: 100%|██████████| 1/1 [00:00<00:00,  7.86it/s, val_loss=3.13, val_ca=9.52, val_wa=0]\n"
     ]
    },
    {
     "name": "stdout",
     "output_type": "stream",
     "text": [
      "3.4653002193995883\n",
      "Validation loss decreased (3.471439 --> 3.465300).  Saving model ...\n"
     ]
    },
    {
     "name": "stderr",
     "output_type": "stream",
     "text": [
      "Epoch: [55]/[150] Training: 100%|██████████| 2/2 [00:00<00:00,  3.27it/s, loss=2.94, train_ca=8.89, train_wa=0]\n",
      "Validating: 100%|██████████| 1/1 [00:00<00:00,  6.87it/s, val_loss=3.15, val_ca=4.47, val_wa=0]\n"
     ]
    },
    {
     "name": "stdout",
     "output_type": "stream",
     "text": [
      "3.4597101922620808\n",
      "Validation loss decreased (3.465300 --> 3.459710).  Saving model ...\n"
     ]
    },
    {
     "name": "stderr",
     "output_type": "stream",
     "text": [
      "Epoch: [56]/[150] Training: 100%|██████████| 2/2 [00:00<00:00,  3.27it/s, loss=3.38, train_ca=5.71, train_wa=0]\n",
      "Validating: 100%|██████████| 1/1 [00:00<00:00,  7.19it/s, val_loss=3.13, val_ca=3.18, val_wa=0]\n"
     ]
    },
    {
     "name": "stdout",
     "output_type": "stream",
     "text": [
      "3.4540366057691902\n",
      "Validation loss decreased (3.459710 --> 3.454037).  Saving model ...\n"
     ]
    },
    {
     "name": "stderr",
     "output_type": "stream",
     "text": [
      "Epoch: [57]/[150] Training: 100%|██████████| 2/2 [00:00<00:00,  3.34it/s, loss=2.97, train_ca=6.03, train_wa=0]\n",
      "Validating: 100%|██████████| 1/1 [00:00<00:00,  7.28it/s, val_loss=3.18, val_ca=6.97, val_wa=0]\n"
     ]
    },
    {
     "name": "stdout",
     "output_type": "stream",
     "text": [
      "3.449471259521226\n",
      "Validation loss decreased (3.454037 --> 3.449471).  Saving model ...\n"
     ]
    },
    {
     "name": "stderr",
     "output_type": "stream",
     "text": [
      "Epoch: [58]/[150] Training: 100%|██████████| 2/2 [00:00<00:00,  3.24it/s, loss=3.16, train_ca=7.14, train_wa=0]\n",
      "Validating: 100%|██████████| 1/1 [00:00<00:00,  7.18it/s, val_loss=3.09, val_ca=4.75, val_wa=0]\n"
     ]
    },
    {
     "name": "stdout",
     "output_type": "stream",
     "text": [
      "3.443547558784485\n",
      "Validation loss decreased (3.449471 --> 3.443548).  Saving model ...\n"
     ]
    },
    {
     "name": "stderr",
     "output_type": "stream",
     "text": [
      "Epoch: [59]/[150] Training: 100%|██████████| 2/2 [00:00<00:00,  3.22it/s, loss=3.18, train_ca=2.38, train_wa=0]\n",
      "Validating: 100%|██████████| 1/1 [00:00<00:00,  7.16it/s, val_loss=3.09, val_ca=4.3, val_wa=0]\n"
     ]
    },
    {
     "name": "stdout",
     "output_type": "stream",
     "text": [
      "3.43772156512151\n",
      "Validation loss decreased (3.443548 --> 3.437722).  Saving model ...\n"
     ]
    },
    {
     "name": "stderr",
     "output_type": "stream",
     "text": [
      "Epoch: [60]/[150] Training: 100%|██████████| 2/2 [00:00<00:00,  3.29it/s, loss=2.88, train_ca=13, train_wa=0] \n",
      "Validating: 100%|██████████| 1/1 [00:00<00:00,  7.17it/s, val_loss=3.07, val_ca=7.25, val_wa=0]\n"
     ]
    },
    {
     "name": "stdout",
     "output_type": "stream",
     "text": [
      "3.431830079324784\n",
      "Validation loss decreased (3.437722 --> 3.431830).  Saving model ...\n"
     ]
    },
    {
     "name": "stderr",
     "output_type": "stream",
     "text": [
      "Epoch: [61]/[150] Training: 100%|██████████| 2/2 [00:00<00:00,  3.30it/s, loss=2.8, train_ca=7.5, train_wa=0]  \n",
      "Validating: 100%|██████████| 1/1 [00:00<00:00,  7.25it/s, val_loss=3.12, val_ca=6.59, val_wa=0]\n"
     ]
    },
    {
     "name": "stdout",
     "output_type": "stream",
     "text": [
      "3.426939078739711\n",
      "Validation loss decreased (3.431830 --> 3.426939).  Saving model ...\n"
     ]
    },
    {
     "name": "stderr",
     "output_type": "stream",
     "text": [
      "Epoch: [62]/[150] Training: 100%|██████████| 2/2 [00:00<00:00,  3.43it/s, loss=2.91, train_ca=8.57, train_wa=0]\n",
      "Validating: 100%|██████████| 1/1 [00:00<00:00,  7.84it/s, val_loss=3.12, val_ca=6.74, val_wa=0]\n"
     ]
    },
    {
     "name": "stdout",
     "output_type": "stream",
     "text": [
      "3.4221061170101166\n",
      "Validation loss decreased (3.426939 --> 3.422106).  Saving model ...\n"
     ]
    },
    {
     "name": "stderr",
     "output_type": "stream",
     "text": [
      "Epoch: [63]/[150] Training: 100%|██████████| 2/2 [00:00<00:00,  3.51it/s, loss=2.6, train_ca=10.2, train_wa=0] \n",
      "Validating: 100%|██████████| 1/1 [00:00<00:00,  7.85it/s, val_loss=3.1, val_ca=4.68, val_wa=0]\n"
     ]
    },
    {
     "name": "stdout",
     "output_type": "stream",
     "text": [
      "3.417197847366333\n",
      "Validation loss decreased (3.422106 --> 3.417198).  Saving model ...\n"
     ]
    },
    {
     "name": "stderr",
     "output_type": "stream",
     "text": [
      "Epoch: [64]/[150] Training: 100%|██████████| 2/2 [00:00<00:00,  3.26it/s, loss=2.72, train_ca=6.23, train_wa=0]\n",
      "Validating: 100%|██████████| 1/1 [00:00<00:00,  7.21it/s, val_loss=3.13, val_ca=6.36, val_wa=0]\n"
     ]
    },
    {
     "name": "stdout",
     "output_type": "stream",
     "text": [
      "3.4128956614118633\n",
      "Validation loss decreased (3.417198 --> 3.412896).  Saving model ...\n"
     ]
    },
    {
     "name": "stderr",
     "output_type": "stream",
     "text": [
      "Epoch: [65]/[150] Training: 100%|██████████| 2/2 [00:00<00:00,  3.18it/s, loss=2.84, train_ca=14.3, train_wa=0]\n",
      "Validating: 100%|██████████| 1/1 [00:00<00:00,  7.09it/s, val_loss=3.24, val_ca=7.35, val_wa=0]\n"
     ]
    },
    {
     "name": "stdout",
     "output_type": "stream",
     "text": [
      "3.4103637061901946\n",
      "Validation loss decreased (3.412896 --> 3.410364).  Saving model ...\n"
     ]
    },
    {
     "name": "stderr",
     "output_type": "stream",
     "text": [
      "Epoch: [66]/[150] Training: 100%|██████████| 2/2 [00:00<00:00,  3.41it/s, loss=3.04, train_ca=3.02, train_wa=0]\n",
      "Validating: 100%|██████████| 1/1 [00:00<00:00,  7.19it/s, val_loss=3.18, val_ca=6.06, val_wa=0]\n"
     ]
    },
    {
     "name": "stdout",
     "output_type": "stream",
     "text": [
      "3.406997908564175\n",
      "Validation loss decreased (3.410364 --> 3.406998).  Saving model ...\n"
     ]
    },
    {
     "name": "stderr",
     "output_type": "stream",
     "text": [
      "Epoch: [67]/[150] Training: 100%|██████████| 2/2 [00:00<00:00,  3.19it/s, loss=2.88, train_ca=8.57, train_wa=0]\n",
      "Validating: 100%|██████████| 1/1 [00:00<00:00,  7.21it/s, val_loss=3.09, val_ca=4.98, val_wa=0]\n"
     ]
    },
    {
     "name": "stdout",
     "output_type": "stream",
     "text": [
      "3.4023812266363613\n",
      "Validation loss decreased (3.406998 --> 3.402381).  Saving model ...\n"
     ]
    },
    {
     "name": "stderr",
     "output_type": "stream",
     "text": [
      "Epoch: [68]/[150] Training: 100%|██████████| 2/2 [00:00<00:00,  3.41it/s, loss=2.77, train_ca=6.23, train_wa=0]\n",
      "Validating: 100%|██████████| 1/1 [00:00<00:00,  7.77it/s, val_loss=3.08, val_ca=5.43, val_wa=0]\n"
     ]
    },
    {
     "name": "stdout",
     "output_type": "stream",
     "text": [
      "3.3977923257010323\n",
      "Validation loss decreased (3.402381 --> 3.397792).  Saving model ...\n"
     ]
    },
    {
     "name": "stderr",
     "output_type": "stream",
     "text": [
      "Epoch: [69]/[150] Training: 100%|██████████| 2/2 [00:00<00:00,  3.62it/s, loss=2.99, train_ca=7.46, train_wa=0]\n",
      "Validating: 100%|██████████| 1/1 [00:00<00:00,  7.80it/s, val_loss=3.13, val_ca=5.36, val_wa=0]\n"
     ]
    },
    {
     "name": "stdout",
     "output_type": "stream",
     "text": [
      "3.3940171624573185\n",
      "Validation loss decreased (3.397792 --> 3.394017).  Saving model ...\n"
     ]
    },
    {
     "name": "stderr",
     "output_type": "stream",
     "text": [
      "Epoch: [70]/[150] Training: 100%|██████████| 2/2 [00:00<00:00,  3.42it/s, loss=2.73, train_ca=8.89, train_wa=0]\n",
      "Validating: 100%|██████████| 1/1 [00:00<00:00,  7.44it/s, val_loss=3.13, val_ca=4.92, val_wa=0]\n"
     ]
    },
    {
     "name": "stdout",
     "output_type": "stream",
     "text": [
      "3.3904031780030994\n",
      "Validation loss decreased (3.394017 --> 3.390403).  Saving model ...\n"
     ]
    },
    {
     "name": "stderr",
     "output_type": "stream",
     "text": [
      "Epoch: [71]/[150] Training: 100%|██████████| 2/2 [00:00<00:00,  3.16it/s, loss=2.71, train_ca=12.1, train_wa=0]\n",
      "Validating: 100%|██████████| 1/1 [00:00<00:00,  6.90it/s, val_loss=3.16, val_ca=6.52, val_wa=0]\n"
     ]
    },
    {
     "name": "stdout",
     "output_type": "stream",
     "text": [
      "3.387306464861517\n",
      "Validation loss decreased (3.390403 --> 3.387306).  Saving model ...\n"
     ]
    },
    {
     "name": "stderr",
     "output_type": "stream",
     "text": [
      "Epoch: [72]/[150] Training: 100%|██████████| 2/2 [00:00<00:00,  3.50it/s, loss=2.78, train_ca=11.4, train_wa=0]\n",
      "Validating: 100%|██████████| 1/1 [00:00<00:00,  7.89it/s, val_loss=3.19, val_ca=8.06, val_wa=0]\n"
     ]
    },
    {
     "name": "stdout",
     "output_type": "stream",
     "text": [
      "3.3845810116948307\n",
      "Validation loss decreased (3.387306 --> 3.384581).  Saving model ...\n"
     ]
    },
    {
     "name": "stderr",
     "output_type": "stream",
     "text": [
      "Epoch: [73]/[150] Training: 100%|██████████| 2/2 [00:00<00:00,  3.48it/s, loss=2.76, train_ca=10.4, train_wa=0]\n",
      "Validating: 100%|██████████| 1/1 [00:00<00:00,  7.76it/s, val_loss=3.04, val_ca=8.67, val_wa=0]\n"
     ]
    },
    {
     "name": "stdout",
     "output_type": "stream",
     "text": [
      "3.379975706736247\n",
      "Validation loss decreased (3.384581 --> 3.379976).  Saving model ...\n"
     ]
    },
    {
     "name": "stderr",
     "output_type": "stream",
     "text": [
      "Epoch: [74]/[150] Training: 100%|██████████| 2/2 [00:00<00:00,  3.49it/s, loss=2.77, train_ca=17.3, train_wa=0]\n",
      "Validating: 100%|██████████| 1/1 [00:00<00:00,  7.70it/s, val_loss=3.02, val_ca=11.1, val_wa=0]\n"
     ]
    },
    {
     "name": "stdout",
     "output_type": "stream",
     "text": [
      "3.3752063638285588\n",
      "Validation loss decreased (3.379976 --> 3.375206).  Saving model ...\n"
     ]
    },
    {
     "name": "stderr",
     "output_type": "stream",
     "text": [
      "Epoch: [75]/[150] Training: 100%|██████████| 2/2 [00:00<00:00,  3.44it/s, loss=2.82, train_ca=6.49, train_wa=0]\n",
      "Validating: 100%|██████████| 1/1 [00:00<00:00,  7.74it/s, val_loss=3.05, val_ca=9.39, val_wa=0]\n"
     ]
    },
    {
     "name": "stdout",
     "output_type": "stream",
     "text": [
      "3.370921865686194\n",
      "Validation loss decreased (3.375206 --> 3.370922).  Saving model ...\n"
     ]
    },
    {
     "name": "stderr",
     "output_type": "stream",
     "text": [
      "Epoch: [76]/[150] Training: 100%|██████████| 2/2 [00:00<00:00,  3.47it/s, loss=2.55, train_ca=11.6, train_wa=0]\n",
      "Validating: 100%|██████████| 1/1 [00:00<00:00,  7.78it/s, val_loss=3.07, val_ca=10.8, val_wa=0]\n"
     ]
    },
    {
     "name": "stdout",
     "output_type": "stream",
     "text": [
      "3.367058283243424\n",
      "Validation loss decreased (3.370922 --> 3.367058).  Saving model ...\n"
     ]
    },
    {
     "name": "stderr",
     "output_type": "stream",
     "text": [
      "Epoch: [77]/[150] Training: 100%|██████████| 2/2 [00:00<00:00,  3.49it/s, loss=2.65, train_ca=14.3, train_wa=0]\n",
      "Validating: 100%|██████████| 1/1 [00:00<00:00,  7.60it/s, val_loss=3.04, val_ca=10.9, val_wa=0]\n"
     ]
    },
    {
     "name": "stdout",
     "output_type": "stream",
     "text": [
      "3.3629081128518794\n",
      "Validation loss decreased (3.367058 --> 3.362908).  Saving model ...\n"
     ]
    },
    {
     "name": "stderr",
     "output_type": "stream",
     "text": [
      "Epoch: [78]/[150] Training: 100%|██████████| 2/2 [00:00<00:00,  3.45it/s, loss=2.65, train_ca=20.3, train_wa=0]\n",
      "Validating: 100%|██████████| 1/1 [00:00<00:00,  7.70it/s, val_loss=3.11, val_ca=10.5, val_wa=0]\n"
     ]
    },
    {
     "name": "stdout",
     "output_type": "stream",
     "text": [
      "3.3597756296396257\n",
      "Validation loss decreased (3.362908 --> 3.359776).  Saving model ...\n"
     ]
    },
    {
     "name": "stderr",
     "output_type": "stream",
     "text": [
      "Epoch: [79]/[150] Training: 100%|██████████| 2/2 [00:00<00:00,  3.46it/s, loss=2.8, train_ca=14.8, train_wa=0] \n",
      "Validating: 100%|██████████| 1/1 [00:00<00:00,  7.74it/s, val_loss=3.17, val_ca=9.77, val_wa=0]\n"
     ]
    },
    {
     "name": "stdout",
     "output_type": "stream",
     "text": [
      "3.357411646548613\n",
      "Validation loss decreased (3.359776 --> 3.357412).  Saving model ...\n"
     ]
    },
    {
     "name": "stderr",
     "output_type": "stream",
     "text": [
      "Epoch: [80]/[150] Training: 100%|██████████| 2/2 [00:00<00:00,  3.21it/s, loss=2.69, train_ca=14.3, train_wa=0]\n",
      "Validating: 100%|██████████| 1/1 [00:00<00:00,  7.14it/s, val_loss=3.19, val_ca=12.2, val_wa=0]\n"
     ]
    },
    {
     "name": "stdout",
     "output_type": "stream",
     "text": [
      "3.3553276178313465\n",
      "Validation loss decreased (3.357412 --> 3.355328).  Saving model ...\n"
     ]
    },
    {
     "name": "stderr",
     "output_type": "stream",
     "text": [
      "Epoch: [81]/[150] Training: 100%|██████████| 2/2 [00:00<00:00,  3.21it/s, loss=2.69, train_ca=19.2, train_wa=0]\n",
      "Validating: 100%|██████████| 1/1 [00:00<00:00,  7.09it/s, val_loss=3.07, val_ca=11.2, val_wa=0]\n"
     ]
    },
    {
     "name": "stdout",
     "output_type": "stream",
     "text": [
      "3.3519375812576477\n",
      "Validation loss decreased (3.355328 --> 3.351938).  Saving model ...\n"
     ]
    },
    {
     "name": "stderr",
     "output_type": "stream",
     "text": [
      "Epoch: [82]/[150] Training: 100%|██████████| 2/2 [00:00<00:00,  3.09it/s, loss=2.66, train_ca=16, train_wa=0]  \n",
      "Validating: 100%|██████████| 1/1 [00:00<00:00,  7.05it/s, val_loss=3.02, val_ca=9.99, val_wa=0]\n"
     ]
    },
    {
     "name": "stdout",
     "output_type": "stream",
     "text": [
      "3.3480298065003895\n",
      "Validation loss decreased (3.351938 --> 3.348030).  Saving model ...\n"
     ]
    },
    {
     "name": "stderr",
     "output_type": "stream",
     "text": [
      "Epoch: [83]/[150] Training: 100%|██████████| 2/2 [00:00<00:00,  3.24it/s, loss=2.95, train_ca=13.4, train_wa=0]\n",
      "Validating: 100%|██████████| 1/1 [00:00<00:00,  7.02it/s, val_loss=3, val_ca=12.9, val_wa=0]\n"
     ]
    },
    {
     "name": "stdout",
     "output_type": "stream",
     "text": [
      "3.3439546332639805\n",
      "Validation loss decreased (3.348030 --> 3.343955).  Saving model ...\n"
     ]
    },
    {
     "name": "stderr",
     "output_type": "stream",
     "text": [
      "Epoch: [84]/[150] Training: 100%|██████████| 2/2 [00:00<00:00,  3.54it/s, loss=2.53, train_ca=19.4, train_wa=0]\n",
      "Validating: 100%|██████████| 1/1 [00:00<00:00,  7.70it/s, val_loss=3.03, val_ca=12.1, val_wa=0]\n"
     ]
    },
    {
     "name": "stdout",
     "output_type": "stream",
     "text": [
      "3.340322020441987\n",
      "Validation loss decreased (3.343955 --> 3.340322).  Saving model ...\n"
     ]
    },
    {
     "name": "stderr",
     "output_type": "stream",
     "text": [
      "Epoch: [85]/[150] Training: 100%|██████████| 2/2 [00:00<00:00,  3.58it/s, loss=3.03, train_ca=7.3, train_wa=0]\n",
      "Validating: 100%|██████████| 1/1 [00:00<00:00,  7.74it/s, val_loss=3.02, val_ca=9.98, val_wa=0]\n"
     ]
    },
    {
     "name": "stdout",
     "output_type": "stream",
     "text": [
      "3.336691768690087\n",
      "Validation loss decreased (3.340322 --> 3.336692).  Saving model ...\n"
     ]
    },
    {
     "name": "stderr",
     "output_type": "stream",
     "text": [
      "Epoch: [86]/[150] Training: 100%|██████████| 2/2 [00:00<00:00,  3.41it/s, loss=2.86, train_ca=11.4, train_wa=0]\n",
      "Validating: 100%|██████████| 1/1 [00:00<00:00,  7.76it/s, val_loss=2.99, val_ca=9.55, val_wa=0]\n"
     ]
    },
    {
     "name": "stdout",
     "output_type": "stream",
     "text": [
      "3.3327133140780707\n",
      "Validation loss decreased (3.336692 --> 3.332713).  Saving model ...\n"
     ]
    },
    {
     "name": "stderr",
     "output_type": "stream",
     "text": [
      "Epoch: [87]/[150] Training: 100%|██████████| 2/2 [00:00<00:00,  3.20it/s, loss=2.52, train_ca=19.7, train_wa=0]\n",
      "Validating: 100%|██████████| 1/1 [00:00<00:00,  6.48it/s, val_loss=2.97, val_ca=12, val_wa=0]\n"
     ]
    },
    {
     "name": "stdout",
     "output_type": "stream",
     "text": [
      "3.328600787044911\n",
      "Validation loss decreased (3.332713 --> 3.328601).  Saving model ...\n"
     ]
    },
    {
     "name": "stderr",
     "output_type": "stream",
     "text": [
      "Epoch: [88]/[150] Training: 100%|██████████| 2/2 [00:00<00:00,  3.15it/s, loss=2.63, train_ca=10.9, train_wa=0]\n",
      "Validating: 100%|██████████| 1/1 [00:00<00:00,  6.54it/s, val_loss=2.96, val_ca=11.5, val_wa=0]\n"
     ]
    },
    {
     "name": "stdout",
     "output_type": "stream",
     "text": [
      "3.3244787957933215\n",
      "Validation loss decreased (3.328601 --> 3.324479).  Saving model ...\n"
     ]
    },
    {
     "name": "stderr",
     "output_type": "stream",
     "text": [
      "Epoch: [89]/[150] Training: 100%|██████████| 2/2 [00:00<00:00,  3.30it/s, loss=2.79, train_ca=10.8, train_wa=0]\n",
      "Validating: 100%|██████████| 1/1 [00:00<00:00,  7.06it/s, val_loss=2.99, val_ca=12.8, val_wa=0]\n"
     ]
    },
    {
     "name": "stdout",
     "output_type": "stream",
     "text": [
      "3.3208123406211096\n",
      "Validation loss decreased (3.324479 --> 3.320812).  Saving model ...\n"
     ]
    },
    {
     "name": "stderr",
     "output_type": "stream",
     "text": [
      "Epoch: [90]/[150] Training: 100%|██████████| 2/2 [00:00<00:00,  3.21it/s, loss=2.87, train_ca=8.03, train_wa=0]\n",
      "Validating: 100%|██████████| 1/1 [00:00<00:00,  7.06it/s, val_loss=3, val_ca=11, val_wa=0]\n"
     ]
    },
    {
     "name": "stdout",
     "output_type": "stream",
     "text": [
      "3.3173286241033804\n",
      "Validation loss decreased (3.320812 --> 3.317329).  Saving model ...\n"
     ]
    },
    {
     "name": "stderr",
     "output_type": "stream",
     "text": [
      "Epoch: [91]/[150] Training: 100%|██████████| 2/2 [00:00<00:00,  3.34it/s, loss=2.72, train_ca=20.5, train_wa=0]\n",
      "Validating: 100%|██████████| 1/1 [00:00<00:00,  7.06it/s, val_loss=3, val_ca=11.8, val_wa=0]\n"
     ]
    },
    {
     "name": "stdout",
     "output_type": "stream",
     "text": [
      "3.3138808435009373\n",
      "Validation loss decreased (3.317329 --> 3.313881).  Saving model ...\n"
     ]
    },
    {
     "name": "stderr",
     "output_type": "stream",
     "text": [
      "Epoch: [92]/[150] Training: 100%|██████████| 2/2 [00:00<00:00,  3.18it/s, loss=2.6, train_ca=12.9, train_wa=0] \n",
      "Validating: 100%|██████████| 1/1 [00:00<00:00,  7.11it/s, val_loss=3, val_ca=14.2, val_wa=0]\n"
     ]
    },
    {
     "name": "stdout",
     "output_type": "stream",
     "text": [
      "3.310533340941084\n",
      "Validation loss decreased (3.313881 --> 3.310533).  Saving model ...\n"
     ]
    },
    {
     "name": "stderr",
     "output_type": "stream",
     "text": [
      "Epoch: [93]/[150] Training: 100%|██████████| 2/2 [00:00<00:00,  3.19it/s, loss=2.72, train_ca=10.4, train_wa=0]\n",
      "Validating: 100%|██████████| 1/1 [00:00<00:00,  7.08it/s, val_loss=2.99, val_ca=12.2, val_wa=0]\n"
     ]
    },
    {
     "name": "stdout",
     "output_type": "stream",
     "text": [
      "3.3071247226313543\n",
      "Validation loss decreased (3.310533 --> 3.307125).  Saving model ...\n"
     ]
    },
    {
     "name": "stderr",
     "output_type": "stream",
     "text": [
      "Epoch: [94]/[150] Training: 100%|██████████| 2/2 [00:00<00:00,  3.24it/s, loss=2.74, train_ca=12.6, train_wa=0]\n",
      "Validating: 100%|██████████| 1/1 [00:00<00:00,  7.02it/s, val_loss=3.03, val_ca=12.7, val_wa=0]\n"
     ]
    },
    {
     "name": "stdout",
     "output_type": "stream",
     "text": [
      "3.3042454719543457\n",
      "Validation loss decreased (3.307125 --> 3.304245).  Saving model ...\n"
     ]
    },
    {
     "name": "stderr",
     "output_type": "stream",
     "text": [
      "Epoch: [95]/[150] Training: 100%|██████████| 2/2 [00:00<00:00,  3.13it/s, loss=2.87, train_ca=14.6, train_wa=0]\n",
      "Validating: 100%|██████████| 1/1 [00:00<00:00,  7.05it/s, val_loss=3.05, val_ca=13.4, val_wa=0]\n"
     ]
    },
    {
     "name": "stdout",
     "output_type": "stream",
     "text": [
      "3.301574775853108\n",
      "Validation loss decreased (3.304245 --> 3.301575).  Saving model ...\n"
     ]
    },
    {
     "name": "stderr",
     "output_type": "stream",
     "text": [
      "Epoch: [96]/[150] Training: 100%|██████████| 2/2 [00:00<00:00,  3.14it/s, loss=2.49, train_ca=18.2, train_wa=0]\n",
      "Validating: 100%|██████████| 1/1 [00:00<00:00,  6.97it/s, val_loss=3.04, val_ca=10.6, val_wa=0]\n"
     ]
    },
    {
     "name": "stdout",
     "output_type": "stream",
     "text": [
      "3.2988558375105566\n",
      "Validation loss decreased (3.301575 --> 3.298856).  Saving model ...\n"
     ]
    },
    {
     "name": "stderr",
     "output_type": "stream",
     "text": [
      "Epoch: [97]/[150] Training: 100%|██████████| 2/2 [00:00<00:00,  3.33it/s, loss=2.97, train_ca=13.5, train_wa=0]\n",
      "Validating: 100%|██████████| 1/1 [00:00<00:00,  6.55it/s, val_loss=3.1, val_ca=14.5, val_wa=0]\n"
     ]
    },
    {
     "name": "stdout",
     "output_type": "stream",
     "text": [
      "3.296821466600052\n",
      "Validation loss decreased (3.298856 --> 3.296821).  Saving model ...\n"
     ]
    },
    {
     "name": "stderr",
     "output_type": "stream",
     "text": [
      "Epoch: [98]/[150] Training: 100%|██████████| 2/2 [00:00<00:00,  3.17it/s, loss=2.62, train_ca=11.2, train_wa=0]\n",
      "Validating: 100%|██████████| 1/1 [00:00<00:00,  7.02it/s, val_loss=3.07, val_ca=12.3, val_wa=0]\n"
     ]
    },
    {
     "name": "stdout",
     "output_type": "stream",
     "text": [
      "3.2945120239257815\n",
      "Validation loss decreased (3.296821 --> 3.294512).  Saving model ...\n"
     ]
    },
    {
     "name": "stderr",
     "output_type": "stream",
     "text": [
      "Epoch: [99]/[150] Training: 100%|██████████| 2/2 [00:00<00:00,  3.20it/s, loss=2.73, train_ca=19.2, train_wa=0]\n",
      "Validating: 100%|██████████| 1/1 [00:00<00:00,  7.07it/s, val_loss=3.14, val_ca=11.9, val_wa=0]\n"
     ]
    },
    {
     "name": "stdout",
     "output_type": "stream",
     "text": [
      "3.293027934461537\n",
      "Validation loss decreased (3.294512 --> 3.293028).  Saving model ...\n"
     ]
    },
    {
     "name": "stderr",
     "output_type": "stream",
     "text": [
      "Epoch: [100]/[150] Training: 100%|██████████| 2/2 [00:00<00:00,  3.38it/s, loss=2.7, train_ca=14.2, train_wa=0] \n",
      "Validating: 100%|██████████| 1/1 [00:00<00:00,  7.56it/s, val_loss=3.05, val_ca=13.5, val_wa=0]\n"
     ]
    },
    {
     "name": "stdout",
     "output_type": "stream",
     "text": [
      "3.2906249971950756\n",
      "Validation loss decreased (3.293028 --> 3.290625).  Saving model ...\n"
     ]
    },
    {
     "name": "stderr",
     "output_type": "stream",
     "text": [
      "Epoch: [101]/[150] Training: 100%|██████████| 2/2 [00:00<00:00,  3.41it/s, loss=2.46, train_ca=17.7, train_wa=0]\n",
      "Validating: 100%|██████████| 1/1 [00:00<00:00,  7.68it/s, val_loss=3.03, val_ca=10.1, val_wa=0]\n"
     ]
    },
    {
     "name": "stdout",
     "output_type": "stream",
     "text": [
      "3.2881211216009936\n",
      "Validation loss decreased (3.290625 --> 3.288121).  Saving model ...\n"
     ]
    },
    {
     "name": "stderr",
     "output_type": "stream",
     "text": [
      "Epoch: [102]/[150] Training: 100%|██████████| 2/2 [00:00<00:00,  3.38it/s, loss=2.79, train_ca=14.8, train_wa=0]\n",
      "Validating: 100%|██████████| 1/1 [00:00<00:00,  7.63it/s, val_loss=2.98, val_ca=13.9, val_wa=0]\n"
     ]
    },
    {
     "name": "stdout",
     "output_type": "stream",
     "text": [
      "3.285157478772677\n",
      "Validation loss decreased (3.288121 --> 3.285157).  Saving model ...\n"
     ]
    },
    {
     "name": "stderr",
     "output_type": "stream",
     "text": [
      "Epoch: [103]/[150] Training: 100%|██████████| 2/2 [00:00<00:00,  3.41it/s, loss=2.42, train_ca=23.9, train_wa=0]\n",
      "Validating: 100%|██████████| 1/1 [00:00<00:00,  7.59it/s, val_loss=3.12, val_ca=15, val_wa=0]\n"
     ]
    },
    {
     "name": "stdout",
     "output_type": "stream",
     "text": [
      "3.283550727935064\n",
      "Validation loss decreased (3.285157 --> 3.283551).  Saving model ...\n"
     ]
    },
    {
     "name": "stderr",
     "output_type": "stream",
     "text": [
      "Epoch: [104]/[150] Training: 100%|██████████| 2/2 [00:00<00:00,  3.45it/s, loss=3.1, train_ca=11.5, train_wa=0] \n",
      "Validating: 100%|██████████| 1/1 [00:00<00:00,  7.70it/s, val_loss=3.03, val_ca=13.8, val_wa=0]\n"
     ]
    },
    {
     "name": "stdout",
     "output_type": "stream",
     "text": [
      "3.2811267780807785\n",
      "Validation loss decreased (3.283551 --> 3.281127).  Saving model ...\n"
     ]
    },
    {
     "name": "stderr",
     "output_type": "stream",
     "text": [
      "Epoch: [105]/[150] Training: 100%|██████████| 2/2 [00:00<00:00,  3.36it/s, loss=2.6, train_ca=17.1, train_wa=0] \n",
      "Validating: 100%|██████████| 1/1 [00:00<00:00,  7.73it/s, val_loss=3.03, val_ca=13.5, val_wa=0]\n"
     ]
    },
    {
     "name": "stdout",
     "output_type": "stream",
     "text": [
      "3.2787370525787924\n",
      "Validation loss decreased (3.281127 --> 3.278737).  Saving model ...\n"
     ]
    },
    {
     "name": "stderr",
     "output_type": "stream",
     "text": [
      "Epoch: [106]/[150] Training: 100%|██████████| 2/2 [00:00<00:00,  3.46it/s, loss=2.59, train_ca=12.1, train_wa=0]\n",
      "Validating: 100%|██████████| 1/1 [00:00<00:00,  7.60it/s, val_loss=3.05, val_ca=11.9, val_wa=0]\n"
     ]
    },
    {
     "name": "stdout",
     "output_type": "stream",
     "text": [
      "3.2765895591841803\n",
      "Validation loss decreased (3.278737 --> 3.276590).  Saving model ...\n"
     ]
    },
    {
     "name": "stderr",
     "output_type": "stream",
     "text": [
      "Epoch: [107]/[150] Training: 100%|██████████| 2/2 [00:00<00:00,  3.16it/s, loss=2.47, train_ca=16.2, train_wa=0]\n",
      "Validating: 100%|██████████| 1/1 [00:00<00:00,  7.11it/s, val_loss=3.08, val_ca=15.8, val_wa=0]\n"
     ]
    },
    {
     "name": "stdout",
     "output_type": "stream",
     "text": [
      "3.274817705154419\n",
      "Validation loss decreased (3.276590 --> 3.274818).  Saving model ...\n"
     ]
    },
    {
     "name": "stderr",
     "output_type": "stream",
     "text": [
      "Epoch: [108]/[150] Training: 100%|██████████| 2/2 [00:00<00:00,  3.14it/s, loss=2.72, train_ca=18.4, train_wa=0]\n",
      "Validating: 100%|██████████| 1/1 [00:00<00:00,  7.07it/s, val_loss=3.04, val_ca=16.2, val_wa=0]\n"
     ]
    },
    {
     "name": "stdout",
     "output_type": "stream",
     "text": [
      "3.2726742094213312\n",
      "Validation loss decreased (3.274818 --> 3.272674).  Saving model ...\n"
     ]
    },
    {
     "name": "stderr",
     "output_type": "stream",
     "text": [
      "Epoch: [109]/[150] Training: 100%|██████████| 2/2 [00:00<00:00,  3.44it/s, loss=3.01, train_ca=11.3, train_wa=0]\n",
      "Validating: 100%|██████████| 1/1 [00:00<00:00,  7.07it/s, val_loss=3.02, val_ca=13.9, val_wa=0]\n"
     ]
    },
    {
     "name": "stdout",
     "output_type": "stream",
     "text": [
      "3.270353261414949\n",
      "Validation loss decreased (3.272674 --> 3.270353).  Saving model ...\n"
     ]
    },
    {
     "name": "stderr",
     "output_type": "stream",
     "text": [
      "Epoch: [110]/[150] Training: 100%|██████████| 2/2 [00:00<00:00,  3.40it/s, loss=2.61, train_ca=12.9, train_wa=0]\n",
      "Validating: 100%|██████████| 1/1 [00:00<00:00,  7.68it/s, val_loss=3.06, val_ca=13.5, val_wa=0]\n"
     ]
    },
    {
     "name": "stdout",
     "output_type": "stream",
     "text": [
      "3.268468658838953\n",
      "Validation loss decreased (3.270353 --> 3.268469).  Saving model ...\n"
     ]
    },
    {
     "name": "stderr",
     "output_type": "stream",
     "text": [
      "Epoch: [111]/[150] Training: 100%|██████████| 2/2 [00:00<00:00,  3.45it/s, loss=2.61, train_ca=21, train_wa=0]  \n",
      "Validating: 100%|██████████| 1/1 [00:00<00:00,  7.77it/s, val_loss=3.01, val_ca=11.4, val_wa=0]\n"
     ]
    },
    {
     "name": "stdout",
     "output_type": "stream",
     "text": [
      "3.266195347878785\n",
      "Validation loss decreased (3.268469 --> 3.266195).  Saving model ...\n"
     ]
    },
    {
     "name": "stderr",
     "output_type": "stream",
     "text": [
      "Epoch: [112]/[150] Training: 100%|██████████| 2/2 [00:00<00:00,  3.65it/s, loss=2.42, train_ca=18.5, train_wa=0]\n",
      "Validating: 100%|██████████| 1/1 [00:00<00:00,  7.52it/s, val_loss=3.01, val_ca=11.4, val_wa=0]\n"
     ]
    },
    {
     "name": "stdout",
     "output_type": "stream",
     "text": [
      "3.2639556098402593\n",
      "Validation loss decreased (3.266195 --> 3.263956).  Saving model ...\n"
     ]
    },
    {
     "name": "stderr",
     "output_type": "stream",
     "text": [
      "Epoch: [113]/[150] Training: 100%|██████████| 2/2 [00:00<00:00,  3.48it/s, loss=2.47, train_ca=15.7, train_wa=0]\n",
      "Validating: 100%|██████████| 1/1 [00:00<00:00,  7.71it/s, val_loss=3.02, val_ca=10.8, val_wa=0]\n"
     ]
    },
    {
     "name": "stdout",
     "output_type": "stream",
     "text": [
      "3.2618358114491337\n",
      "Validation loss decreased (3.263956 --> 3.261836).  Saving model ...\n"
     ]
    },
    {
     "name": "stderr",
     "output_type": "stream",
     "text": [
      "Epoch: [114]/[150] Training: 100%|██████████| 2/2 [00:00<00:00,  3.48it/s, loss=2.57, train_ca=20.6, train_wa=0]\n",
      "Validating: 100%|██████████| 1/1 [00:00<00:00,  6.84it/s, val_loss=3.01, val_ca=14.7, val_wa=0]\n"
     ]
    },
    {
     "name": "stdout",
     "output_type": "stream",
     "text": [
      "3.2596731576426277\n",
      "Validation loss decreased (3.261836 --> 3.259673).  Saving model ...\n"
     ]
    },
    {
     "name": "stderr",
     "output_type": "stream",
     "text": [
      "Epoch: [115]/[150] Training: 100%|██████████| 2/2 [00:00<00:00,  3.15it/s, loss=2.78, train_ca=17.1, train_wa=0]\n",
      "Validating: 100%|██████████| 1/1 [00:00<00:00,  7.08it/s, val_loss=3.06, val_ca=14.7, val_wa=0]\n"
     ]
    },
    {
     "name": "stdout",
     "output_type": "stream",
     "text": [
      "3.2579451992980437\n",
      "Validation loss decreased (3.259673 --> 3.257945).  Saving model ...\n"
     ]
    },
    {
     "name": "stderr",
     "output_type": "stream",
     "text": [
      "Epoch: [116]/[150] Training: 100%|██████████| 2/2 [00:00<00:00,  3.15it/s, loss=2.57, train_ca=21.7, train_wa=0]\n",
      "Validating: 100%|██████████| 1/1 [00:00<00:00,  7.11it/s, val_loss=3.11, val_ca=16.3, val_wa=0]\n"
     ]
    },
    {
     "name": "stdout",
     "output_type": "stream",
     "text": [
      "3.256649275957528\n",
      "Validation loss decreased (3.257945 --> 3.256649).  Saving model ...\n"
     ]
    },
    {
     "name": "stderr",
     "output_type": "stream",
     "text": [
      "Epoch: [117]/[150] Training: 100%|██████████| 2/2 [00:00<00:00,  3.21it/s, loss=2.83, train_ca=9.18, train_wa=0]\n",
      "Validating: 100%|██████████| 1/1 [00:00<00:00,  7.17it/s, val_loss=3.09, val_ca=16.8, val_wa=0]\n"
     ]
    },
    {
     "name": "stdout",
     "output_type": "stream",
     "text": [
      "3.2552481579179524\n",
      "Validation loss decreased (3.256649 --> 3.255248).  Saving model ...\n"
     ]
    },
    {
     "name": "stderr",
     "output_type": "stream",
     "text": [
      "Epoch: [118]/[150] Training: 100%|██████████| 2/2 [00:00<00:00,  3.40it/s, loss=2.37, train_ca=18.7, train_wa=0]\n",
      "Validating: 100%|██████████| 1/1 [00:00<00:00,  7.15it/s, val_loss=3.1, val_ca=13.1, val_wa=0]\n"
     ]
    },
    {
     "name": "stdout",
     "output_type": "stream",
     "text": [
      "3.2539647936820986\n",
      "Validation loss decreased (3.255248 --> 3.253965).  Saving model ...\n"
     ]
    },
    {
     "name": "stderr",
     "output_type": "stream",
     "text": [
      "Epoch: [119]/[150] Training: 100%|██████████| 2/2 [00:00<00:00,  3.43it/s, loss=2.47, train_ca=16.2, train_wa=0]\n",
      "Validating: 100%|██████████| 1/1 [00:00<00:00,  7.59it/s, val_loss=3.12, val_ca=10.9, val_wa=0]\n"
     ]
    },
    {
     "name": "stdout",
     "output_type": "stream",
     "text": [
      "3.252890679461897\n",
      "Validation loss decreased (3.253965 --> 3.252891).  Saving model ...\n"
     ]
    },
    {
     "name": "stderr",
     "output_type": "stream",
     "text": [
      "Epoch: [120]/[150] Training: 100%|██████████| 2/2 [00:00<00:00,  3.45it/s, loss=2.53, train_ca=14.6, train_wa=0]\n",
      "Validating: 100%|██████████| 1/1 [00:00<00:00,  7.71it/s, val_loss=3.1, val_ca=12.4, val_wa=0]\n"
     ]
    },
    {
     "name": "stdout",
     "output_type": "stream",
     "text": [
      "3.2516476795321605\n",
      "Validation loss decreased (3.252891 --> 3.251648).  Saving model ...\n"
     ]
    },
    {
     "name": "stderr",
     "output_type": "stream",
     "text": [
      "Epoch: [121]/[150] Training: 100%|██████████| 2/2 [00:00<00:00,  3.47it/s, loss=2.47, train_ca=17.9, train_wa=0]\n",
      "Validating: 100%|██████████| 1/1 [00:00<00:00,  7.63it/s, val_loss=3.04, val_ca=12.7, val_wa=0]\n"
     ]
    },
    {
     "name": "stdout",
     "output_type": "stream",
     "text": [
      "3.2499558654257923\n",
      "Validation loss decreased (3.251648 --> 3.249956).  Saving model ...\n"
     ]
    },
    {
     "name": "stderr",
     "output_type": "stream",
     "text": [
      "Epoch: [122]/[150] Training: 100%|██████████| 2/2 [00:00<00:00,  3.48it/s, loss=2.5, train_ca=14.6, train_wa=0] \n",
      "Validating: 100%|██████████| 1/1 [00:00<00:00,  7.69it/s, val_loss=3.05, val_ca=15.9, val_wa=0]\n"
     ]
    },
    {
     "name": "stdout",
     "output_type": "stream",
     "text": [
      "3.2483792381901897\n",
      "Validation loss decreased (3.249956 --> 3.248379).  Saving model ...\n"
     ]
    },
    {
     "name": "stderr",
     "output_type": "stream",
     "text": [
      "Epoch: [123]/[150] Training: 100%|██████████| 2/2 [00:00<00:00,  3.45it/s, loss=2.95, train_ca=17.4, train_wa=0]\n",
      "Validating: 100%|██████████| 1/1 [00:00<00:00,  7.72it/s, val_loss=3.07, val_ca=17.6, val_wa=0.0303]\n"
     ]
    },
    {
     "name": "stdout",
     "output_type": "stream",
     "text": [
      "3.246939250946045\n",
      "Validation loss decreased (3.248379 --> 3.246939).  Saving model ...\n"
     ]
    },
    {
     "name": "stderr",
     "output_type": "stream",
     "text": [
      "Epoch: [124]/[150] Training: 100%|██████████| 2/2 [00:00<00:00,  3.47it/s, loss=2.59, train_ca=20.1, train_wa=0]\n",
      "Validating: 100%|██████████| 1/1 [00:00<00:00,  7.60it/s, val_loss=3.06, val_ca=14.7, val_wa=0]\n"
     ]
    },
    {
     "name": "stdout",
     "output_type": "stream",
     "text": [
      "3.2454238865110607\n",
      "Validation loss decreased (3.246939 --> 3.245424).  Saving model ...\n"
     ]
    },
    {
     "name": "stderr",
     "output_type": "stream",
     "text": [
      "Epoch: [125]/[150] Training: 100%|██████████| 2/2 [00:00<00:00,  3.40it/s, loss=2.37, train_ca=24.8, train_wa=0]\n",
      "Validating: 100%|██████████| 1/1 [00:00<00:00,  7.80it/s, val_loss=3.09, val_ca=13.4, val_wa=0]\n"
     ]
    },
    {
     "name": "stdout",
     "output_type": "stream",
     "text": [
      "3.244161797320749\n",
      "Validation loss decreased (3.245424 --> 3.244162).  Saving model ...\n"
     ]
    },
    {
     "name": "stderr",
     "output_type": "stream",
     "text": [
      "Epoch: [126]/[150] Training: 100%|██████████| 2/2 [00:00<00:00,  3.38it/s, loss=2.68, train_ca=11.4, train_wa=0]\n",
      "Validating: 100%|██████████| 1/1 [00:00<00:00,  7.53it/s, val_loss=3.15, val_ca=14, val_wa=0]\n"
     ]
    },
    {
     "name": "stdout",
     "output_type": "stream",
     "text": [
      "3.2433975115418434\n",
      "Validation loss decreased (3.244162 --> 3.243398).  Saving model ...\n"
     ]
    },
    {
     "name": "stderr",
     "output_type": "stream",
     "text": [
      "Epoch: [127]/[150] Training: 100%|██████████| 2/2 [00:00<00:00,  3.60it/s, loss=2.44, train_ca=20.7, train_wa=0]\n",
      "Validating: 100%|██████████| 1/1 [00:00<00:00,  7.75it/s, val_loss=3.19, val_ca=14.3, val_wa=0]\n"
     ]
    },
    {
     "name": "stdout",
     "output_type": "stream",
     "text": [
      "3.2429729043975355\n",
      "Validation loss decreased (3.243398 --> 3.242973).  Saving model ...\n"
     ]
    },
    {
     "name": "stderr",
     "output_type": "stream",
     "text": [
      "Epoch: [128]/[150] Training: 100%|██████████| 2/2 [00:00<00:00,  3.27it/s, loss=2.61, train_ca=24.2, train_wa=0]\n",
      "Validating: 100%|██████████| 1/1 [00:00<00:00,  7.65it/s, val_loss=3.18, val_ca=11.5, val_wa=0]\n"
     ]
    },
    {
     "name": "stdout",
     "output_type": "stream",
     "text": [
      "3.24246220772083\n",
      "Validation loss decreased (3.242973 --> 3.242462).  Saving model ...\n"
     ]
    },
    {
     "name": "stderr",
     "output_type": "stream",
     "text": [
      "Epoch: [129]/[150] Training: 100%|██████████| 2/2 [00:00<00:00,  3.42it/s, loss=2.44, train_ca=17.5, train_wa=0]\n",
      "Validating: 100%|██████████| 1/1 [00:00<00:00,  7.46it/s, val_loss=3.13, val_ca=12.2, val_wa=0]\n"
     ]
    },
    {
     "name": "stdout",
     "output_type": "stream",
     "text": [
      "3.241565620626202\n",
      "Validation loss decreased (3.242462 --> 3.241566).  Saving model ...\n"
     ]
    },
    {
     "name": "stderr",
     "output_type": "stream",
     "text": [
      "Epoch: [130]/[150] Training: 100%|██████████| 2/2 [00:00<00:00,  3.43it/s, loss=2.5, train_ca=24.8, train_wa=0] \n",
      "Validating: 100%|██████████| 1/1 [00:00<00:00,  7.65it/s, val_loss=3.19, val_ca=13.7, val_wa=0]\n"
     ]
    },
    {
     "name": "stdout",
     "output_type": "stream",
     "text": [
      "3.241150151599537\n",
      "Validation loss decreased (3.241566 --> 3.241150).  Saving model ...\n"
     ]
    },
    {
     "name": "stderr",
     "output_type": "stream",
     "text": [
      "Epoch: [131]/[150] Training: 100%|██████████| 2/2 [00:00<00:00,  3.44it/s, loss=2.28, train_ca=24.6, train_wa=0]\n",
      "Validating: 100%|██████████| 1/1 [00:00<00:00,  7.68it/s, val_loss=3.13, val_ca=14.3, val_wa=0]\n"
     ]
    },
    {
     "name": "stdout",
     "output_type": "stream",
     "text": [
      "3.240299658667772\n",
      "Validation loss decreased (3.241150 --> 3.240300).  Saving model ...\n"
     ]
    },
    {
     "name": "stderr",
     "output_type": "stream",
     "text": [
      "Epoch: [132]/[150] Training: 100%|██████████| 2/2 [00:00<00:00,  3.21it/s, loss=2.37, train_ca=25.5, train_wa=0]\n",
      "Validating: 100%|██████████| 1/1 [00:00<00:00,  7.04it/s, val_loss=3.12, val_ca=14.8, val_wa=0]\n"
     ]
    },
    {
     "name": "stdout",
     "output_type": "stream",
     "text": [
      "3.2394114127799645\n",
      "Validation loss decreased (3.240300 --> 3.239411).  Saving model ...\n"
     ]
    },
    {
     "name": "stderr",
     "output_type": "stream",
     "text": [
      "Epoch: [133]/[150] Training: 100%|██████████| 2/2 [00:00<00:00,  3.61it/s, loss=2.72, train_ca=20.4, train_wa=0]\n",
      "Validating: 100%|██████████| 1/1 [00:00<00:00,  7.66it/s, val_loss=3.04, val_ca=14.8, val_wa=0]\n"
     ]
    },
    {
     "name": "stdout",
     "output_type": "stream",
     "text": [
      "3.2379195990385834\n",
      "Validation loss decreased (3.239411 --> 3.237920).  Saving model ...\n"
     ]
    },
    {
     "name": "stderr",
     "output_type": "stream",
     "text": [
      "Epoch: [134]/[150] Training: 100%|██████████| 2/2 [00:00<00:00,  3.44it/s, loss=2.25, train_ca=31.5, train_wa=0]\n",
      "Validating: 100%|██████████| 1/1 [00:00<00:00,  7.82it/s, val_loss=3.04, val_ca=15.3, val_wa=0]\n"
     ]
    },
    {
     "name": "stdout",
     "output_type": "stream",
     "text": [
      "3.2364804534351124\n",
      "Validation loss decreased (3.237920 --> 3.236480).  Saving model ...\n"
     ]
    },
    {
     "name": "stderr",
     "output_type": "stream",
     "text": [
      "Epoch: [135]/[150] Training: 100%|██████████| 2/2 [00:00<00:00,  3.42it/s, loss=2.5, train_ca=17.5, train_wa=0] \n",
      "Validating: 100%|██████████| 1/1 [00:00<00:00,  7.62it/s, val_loss=3.11, val_ca=14.1, val_wa=0]\n"
     ]
    },
    {
     "name": "stdout",
     "output_type": "stream",
     "text": [
      "3.2355688018520383\n",
      "Validation loss decreased (3.236480 --> 3.235569).  Saving model ...\n"
     ]
    },
    {
     "name": "stderr",
     "output_type": "stream",
     "text": [
      "Epoch: [136]/[150] Training: 100%|██████████| 2/2 [00:00<00:00,  3.43it/s, loss=2.47, train_ca=24.4, train_wa=0]\n",
      "Validating: 100%|██████████| 1/1 [00:00<00:00,  7.84it/s, val_loss=3.18, val_ca=16.5, val_wa=0]\n"
     ]
    },
    {
     "name": "stdout",
     "output_type": "stream",
     "text": [
      "3.235159397125244\n",
      "Validation loss decreased (3.235569 --> 3.235159).  Saving model ...\n"
     ]
    },
    {
     "name": "stderr",
     "output_type": "stream",
     "text": [
      "Epoch: [137]/[150] Training: 100%|██████████| 2/2 [00:00<00:00,  3.41it/s, loss=2.76, train_ca=21.9, train_wa=0]\n",
      "Validating: 100%|██████████| 1/1 [00:00<00:00,  7.66it/s, val_loss=3.2, val_ca=14.9, val_wa=0]\n"
     ]
    },
    {
     "name": "stdout",
     "output_type": "stream",
     "text": [
      "3.234930729694504\n",
      "Validation loss decreased (3.235159 --> 3.234931).  Saving model ...\n"
     ]
    },
    {
     "name": "stderr",
     "output_type": "stream",
     "text": [
      "Epoch: [138]/[150] Training: 100%|██████████| 2/2 [00:00<00:00,  3.39it/s, loss=2.68, train_ca=22.4, train_wa=0]\n",
      "Validating: 100%|██████████| 1/1 [00:00<00:00,  7.61it/s, val_loss=3.26, val_ca=15.2, val_wa=0]\n"
     ]
    },
    {
     "name": "stdout",
     "output_type": "stream",
     "text": [
      "3.2350752711296082\n",
      "EarlyStopping counter: (-3.234931 1 out of 15)\n"
     ]
    },
    {
     "name": "stderr",
     "output_type": "stream",
     "text": [
      "Epoch: [139]/[150] Training: 100%|██████████| 2/2 [00:00<00:00,  3.45it/s, loss=2.8, train_ca=13, train_wa=0]   \n",
      "Validating: 100%|██████████| 1/1 [00:00<00:00,  7.63it/s, val_loss=3.11, val_ca=14.3, val_wa=0]\n"
     ]
    },
    {
     "name": "stdout",
     "output_type": "stream",
     "text": [
      "3.2341548956877797\n",
      "Validation loss decreased (3.234931 --> 3.234155).  Saving model ...\n"
     ]
    },
    {
     "name": "stderr",
     "output_type": "stream",
     "text": [
      "Epoch: [140]/[150] Training: 100%|██████████| 2/2 [00:00<00:00,  3.58it/s, loss=2.48, train_ca=20.9, train_wa=0]\n",
      "Validating: 100%|██████████| 1/1 [00:00<00:00,  7.69it/s, val_loss=3, val_ca=14.4, val_wa=0]\n"
     ]
    },
    {
     "name": "stdout",
     "output_type": "stream",
     "text": [
      "3.232529190224661\n",
      "Validation loss decreased (3.234155 --> 3.232529).  Saving model ...\n"
     ]
    },
    {
     "name": "stderr",
     "output_type": "stream",
     "text": [
      "Epoch: [141]/[150] Training: 100%|██████████| 2/2 [00:00<00:00,  3.45it/s, loss=2.19, train_ca=32.8, train_wa=0]\n",
      "Validating: 100%|██████████| 1/1 [00:00<00:00,  6.79it/s, val_loss=2.99, val_ca=16.8, val_wa=0]\n"
     ]
    },
    {
     "name": "stdout",
     "output_type": "stream",
     "text": [
      "3.230859639761331\n",
      "Validation loss decreased (3.232529 --> 3.230860).  Saving model ...\n"
     ]
    },
    {
     "name": "stderr",
     "output_type": "stream",
     "text": [
      "Epoch: [142]/[150] Training: 100%|██████████| 2/2 [00:00<00:00,  3.41it/s, loss=2.48, train_ca=20.5, train_wa=0]\n",
      "Validating: 100%|██████████| 1/1 [00:00<00:00,  6.50it/s, val_loss=2.99, val_ca=16.5, val_wa=0]\n"
     ]
    },
    {
     "name": "stdout",
     "output_type": "stream",
     "text": [
      "3.2291691882742777\n",
      "Validation loss decreased (3.230860 --> 3.229169).  Saving model ...\n"
     ]
    },
    {
     "name": "stderr",
     "output_type": "stream",
     "text": [
      "Epoch: [143]/[150] Training: 100%|██████████| 2/2 [00:00<00:00,  3.37it/s, loss=2.67, train_ca=15.5, train_wa=0]\n",
      "Validating: 100%|██████████| 1/1 [00:00<00:00,  7.70it/s, val_loss=3, val_ca=17.8, val_wa=0]\n"
     ]
    },
    {
     "name": "stdout",
     "output_type": "stream",
     "text": [
      "3.227607582355368\n",
      "Validation loss decreased (3.229169 --> 3.227608).  Saving model ...\n"
     ]
    },
    {
     "name": "stderr",
     "output_type": "stream",
     "text": [
      "Epoch: [144]/[150] Training: 100%|██████████| 2/2 [00:00<00:00,  3.39it/s, loss=2.63, train_ca=13.8, train_wa=0]\n",
      "Validating: 100%|██████████| 1/1 [00:00<00:00,  7.61it/s, val_loss=3.02, val_ca=16.9, val_wa=0]\n"
     ]
    },
    {
     "name": "stdout",
     "output_type": "stream",
     "text": [
      "3.226183644712788\n",
      "Validation loss decreased (3.227608 --> 3.226184).  Saving model ...\n"
     ]
    },
    {
     "name": "stderr",
     "output_type": "stream",
     "text": [
      "Epoch: [145]/[150] Training: 100%|██████████| 2/2 [00:00<00:00,  3.48it/s, loss=2.22, train_ca=22.6, train_wa=0]\n",
      "Validating: 100%|██████████| 1/1 [00:00<00:00,  7.62it/s, val_loss=3.1, val_ca=15.6, val_wa=0]\n"
     ]
    },
    {
     "name": "stdout",
     "output_type": "stream",
     "text": [
      "3.2253443773100976\n",
      "Validation loss decreased (3.226184 --> 3.225344).  Saving model ...\n"
     ]
    },
    {
     "name": "stderr",
     "output_type": "stream",
     "text": [
      "Epoch: [146]/[150] Training: 100%|██████████| 2/2 [00:00<00:00,  3.20it/s, loss=2.71, train_ca=16.5, train_wa=0]\n",
      "Validating: 100%|██████████| 1/1 [00:00<00:00,  6.84it/s, val_loss=3.08, val_ca=13.9, val_wa=0]\n"
     ]
    },
    {
     "name": "stdout",
     "output_type": "stream",
     "text": [
      "3.2243909674721793\n",
      "Validation loss decreased (3.225344 --> 3.224391).  Saving model ...\n"
     ]
    },
    {
     "name": "stderr",
     "output_type": "stream",
     "text": [
      "Epoch: [147]/[150] Training: 100%|██████████| 2/2 [00:00<00:00,  3.16it/s, loss=2.61, train_ca=18.7, train_wa=0]\n",
      "Validating: 100%|██████████| 1/1 [00:00<00:00,  7.07it/s, val_loss=3.19, val_ca=14.6, val_wa=0]\n"
     ]
    },
    {
     "name": "stdout",
     "output_type": "stream",
     "text": [
      "3.2241922080916847\n",
      "Validation loss decreased (3.224391 --> 3.224192).  Saving model ...\n"
     ]
    },
    {
     "name": "stderr",
     "output_type": "stream",
     "text": [
      "Epoch: [148]/[150] Training: 100%|██████████| 2/2 [00:00<00:00,  3.20it/s, loss=2.47, train_ca=20.2, train_wa=0]\n",
      "Validating: 100%|██████████| 1/1 [00:00<00:00,  7.01it/s, val_loss=3.22, val_ca=15, val_wa=0]\n"
     ]
    },
    {
     "name": "stdout",
     "output_type": "stream",
     "text": [
      "3.2241358168919882\n",
      "Validation loss decreased (3.224192 --> 3.224136).  Saving model ...\n"
     ]
    }
   ],
   "source": [
    "%env CUDA_VISIBLE_DEVICES=3\n",
    "alphabet = \"\"\"Only thewigsofrcvdampbkuq.$A-210xT5'MDL,RYHJ\"ISPWENj&BC93VGFKz();#:!7U64Q8?+*ZX/%\"\"\"\n",
    "args = {\n",
    "    'name':'exp2',\n",
    "    'path':'../archive/LP-characters',\n",
    "    'imgdir': 'images',\n",
    "    'imgW':128,\n",
    "    'imgH':32,\n",
    "    'XMLdir':'annotations',\n",
    "    'nChannels':1, \n",
    "    'nHidden':512, \n",
    "    'nClasses':len(alphabet),\n",
    "    'lr':0.001,\n",
    "    'epochs':150,\n",
    "    'batch_size':128,\n",
    "    'save_dir':'../checkpoints/',\n",
    "    'log_dir':'../logs',\n",
    "    'resume':False,\n",
    "    'cuda':False,\n",
    "    'schedule':False,\n",
    "    'dropout':0.2\n",
    "    \n",
    "}\n",
    "\n",
    "data = SynthDataset(args)\n",
    "args['collate_fn'] = SynthCollator()\n",
    "train_split = int(0.65*len(data))\n",
    "test_split = int(0.2*len(data))\n",
    "val_split = len(data) - train_split - test_split\n",
    "\n",
    "args['data_train'], args['data_test'], args['data_val'] = random_split(data, (train_split, test_split, val_split))\n",
    "print('Traininig Data Size:{}\\nTest Data Size:{}\\nVal Data Size:{}'.format(\n",
    "    len(args['data_train']), len(args['data_test']), len(args['data_val'])))\n",
    "args['alphabet'] = alphabet\n",
    "model = CRNN(args)\n",
    "args['criterion'] = CustomCTCLoss()\n",
    "savepath = os.path.join(args['save_dir'], args['name'])\n",
    "gmkdir(savepath)\n",
    "gmkdir(args['log_dir'])\n",
    "logging.basicConfig(level=logging.INFO, handlers=[logging.NullHandler()])\n",
    "optimizer = torch.optim.Adam(model.parameters(), lr=args['lr'])\n",
    "learner = Learner(model, optimizer, savepath=savepath, resume=args['resume'])\n",
    "learner.fit(args)"
   ]
  },
  {
   "cell_type": "code",
   "execution_count": 170,
   "metadata": {},
   "outputs": [
    {
     "name": "stdout",
     "output_type": "stream",
     "text": [
      "CL31VLGP\n",
      "torch.Size([1, 32, 128])\n",
      "75\n",
      "-------------------\n",
      "46Z8892MH\n",
      "torch.Size([1, 32, 128])\n",
      "39\n",
      "-------------------\n",
      "KL48H9383\n",
      "torch.Size([1, 32, 128])\n",
      "88\n",
      "-------------------\n",
      "MH01A5R274\n",
      "torch.Size([1, 32, 128])\n",
      "159\n",
      "-------------------\n",
      "MH14EH7985\n",
      "torch.Size([1, 32, 128])\n",
      "186\n",
      "-------------------\n",
      "KL55R2473\n",
      "torch.Size([1, 32, 128])\n",
      "9\n",
      "-------------------\n",
      "KA01D0133\n",
      "torch.Size([1, 32, 128])\n",
      "155\n",
      "-------------------\n",
      "HR26DK6475\n",
      "torch.Size([1, 32, 128])\n",
      "63\n",
      "-------------------\n",
      "MH02CB4545\n",
      "torch.Size([1, 32, 128])\n",
      "1\n",
      "-------------------\n",
      "MH06A8929W\n",
      "torch.Size([1, 32, 128])\n",
      "37\n",
      "-------------------\n"
     ]
    }
   ],
   "source": [
    "for i in range(10):\n",
    "    item = args['data_test'][i]\n",
    "    print(item['label'])\n",
    "    print(item['img'].shape)\n",
    "    print(item['idx'])\n",
    "    print('-------------------')"
   ]
  },
  {
   "cell_type": "markdown",
   "metadata": {},
   "source": [
    "## Evaluation and testing"
   ]
  },
  {
   "cell_type": "code",
   "execution_count": 171,
   "metadata": {},
   "outputs": [],
   "source": [
    "import matplotlib.pyplot as plt\n",
    "from torchvision.utils import make_grid\n",
    "from sklearn.metrics import precision_score, recall_score\n"
   ]
  },
  {
   "cell_type": "code",
   "execution_count": 178,
   "metadata": {},
   "outputs": [],
   "source": [
    "device = torch.device(\"cuda:0\" if torch.cuda.is_available() else \"cpu\")\n",
    "def get_accuracy(args):\n",
    "    loader = torch.utils.data.DataLoader(args['data'],\n",
    "                batch_size=args['batch_size'],\n",
    "                collate_fn=args['collate_fn'])\n",
    "    model = args['model']\n",
    "    model.eval()\n",
    "    converter = OCRLabelConverter(args['alphabet'])\n",
    "    evaluator = Eval()\n",
    "    labels, predictions, images = [], [], []\n",
    "    for iteration, batch in enumerate(tqdm(loader)):\n",
    "        input_, targets = batch['img'].to(device), batch['label']\n",
    "        input_ = input_.cuda()\n",
    "        images.extend(input_.squeeze().detach())\n",
    "        labels.extend(targets)\n",
    "        targets, lengths = converter.encode(targets)\n",
    "        logits = model(input_).transpose(1, 0)\n",
    "        logits = torch.nn.functional.log_softmax(logits, 2)\n",
    "        logits = logits.contiguous().cpu()\n",
    "        T, B, H = logits.size()\n",
    "        pred_sizes = torch.LongTensor([T for i in range(B)])\n",
    "        probs, pos = logits.max(2)\n",
    "        pos = pos.transpose(1, 0).contiguous().view(-1)\n",
    "        sim_preds = converter.decode(pos.data, pred_sizes.data, raw=False)\n",
    "        predictions.extend(sim_preds)\n",
    "        \n",
    "    fig=plt.figure(figsize=(8, 8))\n",
    "    columns = 4\n",
    "    rows = 5\n",
    "    pairs = list(zip(images, predictions))\n",
    "    indices = np.random.permutation(len(pairs))\n",
    "    for i in range(1, columns*rows +1):\n",
    "        img = images[indices[i]]\n",
    "        img = (img - img.min())/(img.max() - img.min())\n",
    "        img = img.cpu().numpy() * 255.0\n",
    "        img = img.astype(np.uint8)\n",
    "        fig.add_subplot(rows, columns, i)\n",
    "        plt.title(predictions[indices[i]])\n",
    "        plt.axis('off')\n",
    "        plt.imshow(img)\n",
    "    plt.show()\n",
    "    \n",
    "    ca = np.mean((list(map(evaluator.char_accuracy, list(zip(predictions, labels))))))\n",
    "    wa = np.mean((list(map(evaluator.word_accuracy_line, list(zip(predictions, labels))))))\n",
    "    precision = precision_score(labels, predictions, average='macro', zero_division=0)\n",
    "    recall = recall_score(labels, predictions, average='macro', zero_division=0)\n",
    "    return ca, wa, precision, recall, predictions, labels\n"
   ]
  },
  {
   "cell_type": "code",
   "execution_count": 179,
   "metadata": {},
   "outputs": [
    {
     "name": "stdout",
     "output_type": "stream",
     "text": [
      "Loading model ../checkpoints/exp2/best.ckpt\n"
     ]
    },
    {
     "name": "stderr",
     "output_type": "stream",
     "text": [
      "  0%|          | 0/1 [00:00<?, ?it/s]"
     ]
    },
    {
     "name": "stderr",
     "output_type": "stream",
     "text": [
      "100%|██████████| 1/1 [00:00<00:00,  6.55it/s]\n"
     ]
    },
    {
     "data": {
      "image/png": "[encoded data removed]",
      "text/plain": [
       "<Figure size 800x800 with 20 Axes>"
      ]
     },
     "metadata": {},
     "output_type": "display_data"
    },
    {
     "name": "stdout",
     "output_type": "stream",
     "text": [
      "Character Accuracy: 17.04\n",
      "plate Accuracy: 0.00\n",
      "Precision: 0.00\n",
      "Recall: 0.00\n",
      "Predictions: ['HR06', 'P6', 'MH04', 'HN06', 'MH14', 'KL0', 'KN06', 'MH04', 'KL06', 'TN06', 'MH0', 'KH0', 'MH14', 'KL0', 'TL06', 'MH14', 'TN06', 'MH10', 'KL06', 'HN06', 'KL06', 'MH14', 'MH1', 'MH10', 'MH0', 'MH10', 'KH0', 'MH10', 'KL06', 'MH0', 'MH10', 'MH0', 'MH10', 'KL06', 'KH', 'MH14', 'MH14', 'KL06', 'HN06', 'HL06', 'MH14']\n",
      "Targets: ['CL31VLGP', '46Z8892MH', 'KL48H9383', 'MH01A5R274', 'MH14EH7985', 'KL55R2473', 'KA01D0133', 'HR26DK6475', 'MH02CB4545', 'MH06A8929W', 'TN45BA1065', 'WB74X7605', 'GJ05443', 'KLT708253', 'HR99BJTEMP6662SUPERONHYUNDAI', 'MH03BS7778', 'MH14TCE4', 'MH14GN9239', 'KL12G7531', 'TN59AQ1515', 'KL10AWW814', 'TN52U1580', 'MH20B4Y546', 'KL10AV6342', 'KL06H5834', 'MH02CT2727', 'KA05HS4495', 'MH04EE2299', 'KL10AW2814', 'HR26BP3543', 'MH20DJ0419', 'KL10AV6633', 'MH2OBN3525', 'T0N2AH4432', 'DL49AK49', 'MH15TC554', 'WOBNP300', 'TN43J0158', 'KL02AF6363', 'HR26CT4063', 'WB07D5106']\n"
     ]
    }
   ],
   "source": [
    "# args['imgdir'] = 'images'\n",
    "args['data'] = args['data_test']\n",
    "resume_file = os.path.join(args['save_dir'], args['name'], 'best.ckpt')\n",
    "if os.path.isfile(resume_file):\n",
    "    print('Loading model %s'%resume_file)\n",
    "    checkpoint = torch.load(resume_file)\n",
    "    model.load_state_dict(checkpoint['state_dict'], strict=False)\n",
    "    args['model'] = model\n",
    "    ca, wa, prec, rec, preds, targets = get_accuracy(args)\n",
    "    print(\"Character Accuracy: %.2f\\nplate Accuracy: %.2f\"%(ca, wa))\n",
    "    print(\"Precision: %.2f\\nRecall: %.2f\"%(prec, rec))\n",
    "    print(\"Predictions:\", preds)\n",
    "    print(\"Targets:\", targets)\n",
    "else:\n",
    "    print(\"=> no checkpoint found at '{}'\".format(os.path.join(args['save_dir'], args['name'])))\n",
    "    print('Exiting')\n"
   ]
  },
  {
   "cell_type": "markdown",
   "metadata": {},
   "source": [
    "### Part 4\n",
    "\n",
    "The model as is, is so bad and did not even give any predictions, in fact it has predicted blanks and that is due to several reasons. First, the data we are using is too small which does not allow the model to converge. Also the loss function we are using, CTC, if the number of epochs is low then there is a high propability to get blanks as we did in the first model. The images we are using are bad in my opinion and they are different from the images of the original task, they are more complicated for the model which requires bigger data for the model to be able to learn from it. These images have edges and have a noticeable level of noise. The number of epochs used in the original model is too small, with small data like this we need more epochs for a better chance of learning from the data.\n",
    "\n",
    "![Original model accuracy](Car_plates_original_model.png)\n",
    "\n"
   ]
  },
  {
   "cell_type": "markdown",
   "metadata": {},
   "source": [
    "### Part 5 and Bonus 1\n",
    "I tried several architectures. I started by increasing the number of epochs and batch size with changing the learning rate. The best model I got was when using setting the number of epochs to 150 and the batch size to 128, with character accuracy of 14.54 but a word(plate number) accuracy of 0, still better than in the original model 'nan'. Changing the learning rate gave me worse models, either too slow or one that overfits.\n",
    "![Second best model accuracy](second_best_model.png)\n",
    "\n",
    "\n",
    "I then kept on trying to change the number of layers and their kind or even adding more layers (like adding non linearity to LSTM) or a dropout between the existing layers (although overfitting was not a real problem yet). Nothing really helped except for changing the number of layers to be 512. The character accuracy reached 17.04, while the word accuracy is still 0.\n",
    "\n",
    "Adding more hidden layers allowed the model to learn more complex features and patterns in the data we are using.\n",
    "\n",
    "With bigger and better data we might get a chance in enhancing such model to allow it to learn more effectively and generalize well. After all we all know what they say, <span style=\"color:red\">*garbage in, garbage out*.</span>\n",
    "\n",
    "I actually encountered an error when I tried changing the number of hidden layers in the beginning and that was due to the input size of the LSTM it was set to be: nHidden\\*2 (256\\*2=512) as the output size of CNN is 512, the input of the LSTM should also be 512, after changing it from 'nHidden' to 512 everything went smoothly.\n",
    "\n",
    "For the precision and recall they were always 0 as expected."
   ]
  },
  {
   "cell_type": "markdown",
   "metadata": {},
   "source": []
  }
 ],
 "metadata": {
  "kernelspec": {
   "display_name": "Python 3",
   "language": "python",
   "name": "python3"
  },
  "language_info": {
   "codemirror_mode": {
    "name": "ipython",
    "version": 3
   },
   "file_extension": ".py",
   "mimetype": "text/x-python",
   "name": "python",
   "nbconvert_exporter": "python",
   "pygments_lexer": "ipython3",
   "version": "3.11.6"
  }
 },
 "nbformat": 4,
 "nbformat_minor": 4
}
